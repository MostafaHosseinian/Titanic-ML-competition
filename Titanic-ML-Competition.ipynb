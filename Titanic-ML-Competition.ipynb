{
 "cells": [
  {
   "cell_type": "markdown",
   "metadata": {},
   "source": [
    "## 1. Import libraries and packages"
   ]
  },
  {
   "cell_type": "markdown",
   "metadata": {},
   "source": [
    "In this assignment, I will use very common and handy libraries and packages like **numpy, Pandas, Scikit-learn, Keras,** and **XGBoost** for prepare data and create the ML models. I will also use **Seaborn** and **Matpolotlib** to visualize summary statistics and results in different steps."
   ]
  },
  {
   "cell_type": "code",
   "execution_count": 1,
   "metadata": {},
   "outputs": [],
   "source": [
    "# import libraries and packages\n",
    "import numpy as np\n",
    "import pandas as pd\n",
    "import matplotlib.pyplot as plt\n",
    "import seaborn as sns\n",
    "from collections import Counter\n",
    "from sklearn.preprocessing import StandardScaler\n",
    "from sklearn.metrics import confusion_matrix\n",
    "from sklearn.model_selection import cross_val_score\n",
    "from sklearn.neighbors import KNeighborsClassifier\n",
    "from sklearn.naive_bayes import GaussianNB\n",
    "from sklearn.tree import DecisionTreeClassifier\n",
    "from sklearn.linear_model import LogisticRegression\n",
    "from sklearn.ensemble import RandomForestClassifier\n",
    "from sklearn.ensemble import BaggingClassifier\n",
    "from sklearn.neural_network import MLPClassifier\n",
    "from sklearn.model_selection import GridSearchCV\n",
    "from keras import models, layers, regularizers, wrappers\n",
    "from keras.wrappers.scikit_learn import KerasClassifier\n",
    "import xgboost as xgb\n",
    "from xgboost.sklearn import XGBClassifier\n",
    "\n",
    "\n",
    "%matplotlib inline"
   ]
  },
  {
   "cell_type": "markdown",
   "metadata": {},
   "source": [
    "## 2. Looking to the train and test sets"
   ]
  },
  {
   "cell_type": "markdown",
   "metadata": {},
   "source": [
    "As it was said, the dataset split into two sets; train and test set that was provided by Kaggle.\n",
    "\n",
    "Train set is used to predict model on data and the test set is used to evaluate the predictive model."
   ]
  },
  {
   "cell_type": "code",
   "execution_count": 2,
   "metadata": {},
   "outputs": [
    {
     "data": {
      "text/html": [
       "<div>\n",
       "<style scoped>\n",
       "    .dataframe tbody tr th:only-of-type {\n",
       "        vertical-align: middle;\n",
       "    }\n",
       "\n",
       "    .dataframe tbody tr th {\n",
       "        vertical-align: top;\n",
       "    }\n",
       "\n",
       "    .dataframe thead th {\n",
       "        text-align: right;\n",
       "    }\n",
       "</style>\n",
       "<table border=\"1\" class=\"dataframe\">\n",
       "  <thead>\n",
       "    <tr style=\"text-align: right;\">\n",
       "      <th></th>\n",
       "      <th>PassengerId</th>\n",
       "      <th>Survived</th>\n",
       "      <th>Pclass</th>\n",
       "      <th>Name</th>\n",
       "      <th>Sex</th>\n",
       "      <th>Age</th>\n",
       "      <th>SibSp</th>\n",
       "      <th>Parch</th>\n",
       "      <th>Ticket</th>\n",
       "      <th>Fare</th>\n",
       "      <th>Cabin</th>\n",
       "      <th>Embarked</th>\n",
       "    </tr>\n",
       "  </thead>\n",
       "  <tbody>\n",
       "    <tr>\n",
       "      <th>0</th>\n",
       "      <td>1</td>\n",
       "      <td>0</td>\n",
       "      <td>3</td>\n",
       "      <td>Braund, Mr. Owen Harris</td>\n",
       "      <td>male</td>\n",
       "      <td>22.0</td>\n",
       "      <td>1</td>\n",
       "      <td>0</td>\n",
       "      <td>A/5 21171</td>\n",
       "      <td>7.2500</td>\n",
       "      <td>NaN</td>\n",
       "      <td>S</td>\n",
       "    </tr>\n",
       "    <tr>\n",
       "      <th>1</th>\n",
       "      <td>2</td>\n",
       "      <td>1</td>\n",
       "      <td>1</td>\n",
       "      <td>Cumings, Mrs. John Bradley (Florence Briggs Th...</td>\n",
       "      <td>female</td>\n",
       "      <td>38.0</td>\n",
       "      <td>1</td>\n",
       "      <td>0</td>\n",
       "      <td>PC 17599</td>\n",
       "      <td>71.2833</td>\n",
       "      <td>C85</td>\n",
       "      <td>C</td>\n",
       "    </tr>\n",
       "    <tr>\n",
       "      <th>2</th>\n",
       "      <td>3</td>\n",
       "      <td>1</td>\n",
       "      <td>3</td>\n",
       "      <td>Heikkinen, Miss. Laina</td>\n",
       "      <td>female</td>\n",
       "      <td>26.0</td>\n",
       "      <td>0</td>\n",
       "      <td>0</td>\n",
       "      <td>STON/O2. 3101282</td>\n",
       "      <td>7.9250</td>\n",
       "      <td>NaN</td>\n",
       "      <td>S</td>\n",
       "    </tr>\n",
       "    <tr>\n",
       "      <th>3</th>\n",
       "      <td>4</td>\n",
       "      <td>1</td>\n",
       "      <td>1</td>\n",
       "      <td>Futrelle, Mrs. Jacques Heath (Lily May Peel)</td>\n",
       "      <td>female</td>\n",
       "      <td>35.0</td>\n",
       "      <td>1</td>\n",
       "      <td>0</td>\n",
       "      <td>113803</td>\n",
       "      <td>53.1000</td>\n",
       "      <td>C123</td>\n",
       "      <td>S</td>\n",
       "    </tr>\n",
       "    <tr>\n",
       "      <th>4</th>\n",
       "      <td>5</td>\n",
       "      <td>0</td>\n",
       "      <td>3</td>\n",
       "      <td>Allen, Mr. William Henry</td>\n",
       "      <td>male</td>\n",
       "      <td>35.0</td>\n",
       "      <td>0</td>\n",
       "      <td>0</td>\n",
       "      <td>373450</td>\n",
       "      <td>8.0500</td>\n",
       "      <td>NaN</td>\n",
       "      <td>S</td>\n",
       "    </tr>\n",
       "  </tbody>\n",
       "</table>\n",
       "</div>"
      ],
      "text/plain": [
       "   PassengerId  Survived  Pclass  \\\n",
       "0            1         0       3   \n",
       "1            2         1       1   \n",
       "2            3         1       3   \n",
       "3            4         1       1   \n",
       "4            5         0       3   \n",
       "\n",
       "                                                Name     Sex   Age  SibSp  \\\n",
       "0                            Braund, Mr. Owen Harris    male  22.0      1   \n",
       "1  Cumings, Mrs. John Bradley (Florence Briggs Th...  female  38.0      1   \n",
       "2                             Heikkinen, Miss. Laina  female  26.0      0   \n",
       "3       Futrelle, Mrs. Jacques Heath (Lily May Peel)  female  35.0      1   \n",
       "4                           Allen, Mr. William Henry    male  35.0      0   \n",
       "\n",
       "   Parch            Ticket     Fare Cabin Embarked  \n",
       "0      0         A/5 21171   7.2500   NaN        S  \n",
       "1      0          PC 17599  71.2833   C85        C  \n",
       "2      0  STON/O2. 3101282   7.9250   NaN        S  \n",
       "3      0            113803  53.1000  C123        S  \n",
       "4      0            373450   8.0500   NaN        S  "
      ]
     },
     "execution_count": 2,
     "metadata": {},
     "output_type": "execute_result"
    }
   ],
   "source": [
    "# import train set\n",
    "train = pd.read_csv(r'D:\\Western University\\A-term\\Advanced Machine Learning\\Assignment\\1\\Dataset\\train.csv')\n",
    "train.head()"
   ]
  },
  {
   "cell_type": "code",
   "execution_count": 3,
   "metadata": {},
   "outputs": [
    {
     "data": {
      "text/html": [
       "<div>\n",
       "<style scoped>\n",
       "    .dataframe tbody tr th:only-of-type {\n",
       "        vertical-align: middle;\n",
       "    }\n",
       "\n",
       "    .dataframe tbody tr th {\n",
       "        vertical-align: top;\n",
       "    }\n",
       "\n",
       "    .dataframe thead th {\n",
       "        text-align: right;\n",
       "    }\n",
       "</style>\n",
       "<table border=\"1\" class=\"dataframe\">\n",
       "  <thead>\n",
       "    <tr style=\"text-align: right;\">\n",
       "      <th></th>\n",
       "      <th>Pclass</th>\n",
       "      <th>Name</th>\n",
       "      <th>Sex</th>\n",
       "      <th>Age</th>\n",
       "      <th>SibSp</th>\n",
       "      <th>Parch</th>\n",
       "      <th>Ticket</th>\n",
       "      <th>Fare</th>\n",
       "      <th>Cabin</th>\n",
       "      <th>Embarked</th>\n",
       "    </tr>\n",
       "    <tr>\n",
       "      <th>PassengerId</th>\n",
       "      <th></th>\n",
       "      <th></th>\n",
       "      <th></th>\n",
       "      <th></th>\n",
       "      <th></th>\n",
       "      <th></th>\n",
       "      <th></th>\n",
       "      <th></th>\n",
       "      <th></th>\n",
       "      <th></th>\n",
       "    </tr>\n",
       "  </thead>\n",
       "  <tbody>\n",
       "    <tr>\n",
       "      <th>892</th>\n",
       "      <td>3</td>\n",
       "      <td>Kelly, Mr. James</td>\n",
       "      <td>male</td>\n",
       "      <td>34.5</td>\n",
       "      <td>0</td>\n",
       "      <td>0</td>\n",
       "      <td>330911</td>\n",
       "      <td>7.8292</td>\n",
       "      <td>NaN</td>\n",
       "      <td>Q</td>\n",
       "    </tr>\n",
       "    <tr>\n",
       "      <th>893</th>\n",
       "      <td>3</td>\n",
       "      <td>Wilkes, Mrs. James (Ellen Needs)</td>\n",
       "      <td>female</td>\n",
       "      <td>47.0</td>\n",
       "      <td>1</td>\n",
       "      <td>0</td>\n",
       "      <td>363272</td>\n",
       "      <td>7.0000</td>\n",
       "      <td>NaN</td>\n",
       "      <td>S</td>\n",
       "    </tr>\n",
       "    <tr>\n",
       "      <th>894</th>\n",
       "      <td>2</td>\n",
       "      <td>Myles, Mr. Thomas Francis</td>\n",
       "      <td>male</td>\n",
       "      <td>62.0</td>\n",
       "      <td>0</td>\n",
       "      <td>0</td>\n",
       "      <td>240276</td>\n",
       "      <td>9.6875</td>\n",
       "      <td>NaN</td>\n",
       "      <td>Q</td>\n",
       "    </tr>\n",
       "    <tr>\n",
       "      <th>895</th>\n",
       "      <td>3</td>\n",
       "      <td>Wirz, Mr. Albert</td>\n",
       "      <td>male</td>\n",
       "      <td>27.0</td>\n",
       "      <td>0</td>\n",
       "      <td>0</td>\n",
       "      <td>315154</td>\n",
       "      <td>8.6625</td>\n",
       "      <td>NaN</td>\n",
       "      <td>S</td>\n",
       "    </tr>\n",
       "    <tr>\n",
       "      <th>896</th>\n",
       "      <td>3</td>\n",
       "      <td>Hirvonen, Mrs. Alexander (Helga E Lindqvist)</td>\n",
       "      <td>female</td>\n",
       "      <td>22.0</td>\n",
       "      <td>1</td>\n",
       "      <td>1</td>\n",
       "      <td>3101298</td>\n",
       "      <td>12.2875</td>\n",
       "      <td>NaN</td>\n",
       "      <td>S</td>\n",
       "    </tr>\n",
       "  </tbody>\n",
       "</table>\n",
       "</div>"
      ],
      "text/plain": [
       "             Pclass                                          Name     Sex  \\\n",
       "PassengerId                                                                 \n",
       "892               3                              Kelly, Mr. James    male   \n",
       "893               3              Wilkes, Mrs. James (Ellen Needs)  female   \n",
       "894               2                     Myles, Mr. Thomas Francis    male   \n",
       "895               3                              Wirz, Mr. Albert    male   \n",
       "896               3  Hirvonen, Mrs. Alexander (Helga E Lindqvist)  female   \n",
       "\n",
       "              Age  SibSp  Parch   Ticket     Fare Cabin Embarked  \n",
       "PassengerId                                                       \n",
       "892          34.5      0      0   330911   7.8292   NaN        Q  \n",
       "893          47.0      1      0   363272   7.0000   NaN        S  \n",
       "894          62.0      0      0   240276   9.6875   NaN        Q  \n",
       "895          27.0      0      0   315154   8.6625   NaN        S  \n",
       "896          22.0      1      1  3101298  12.2875   NaN        S  "
      ]
     },
     "execution_count": 3,
     "metadata": {},
     "output_type": "execute_result"
    }
   ],
   "source": [
    "test = pd.read_csv(r'D:\\Western University\\A-term\\Advanced Machine Learning\\Assignment\\1\\Dataset\\test.csv').set_index('PassengerId')\n",
    "test.head()"
   ]
  },
  {
   "cell_type": "markdown",
   "metadata": {},
   "source": [
    "Below is a brief information about each columns of the dataset:\n",
    "\n",
    "**1. PassengerId:** An unique index for passenger rows. It starts from 1 for first row and increments by 1 for every new rows.\n",
    "\n",
    "**2. Survived:** Shows if the passenger survived or not. 1 stands for survived and 0 stands for not survived.\n",
    "\n",
    "**3. Pclass:** Ticket class. 1 stands for First class ticket. 2 stands for Second class ticket. 3 stands for Third class ticket.\n",
    "\n",
    "**4. Name:** Passenger's name. Name also contain title. \"Mr\" for man. \"Mrs\" for woman. \"Miss\" for girl. \"Master\" for boy.\n",
    "\n",
    "**5. Sex:** Passenger's sex. It's either Male or Female.\n",
    "\n",
    "**6. Age:** Passenger's age.\n",
    "\n",
    "**7. SibSp:** Number of siblings or spouses travelling with each passenger.\n",
    "\n",
    "**8. Parch:** Number of parents of children travelling with each passenger.\n",
    "\n",
    "**9. Ticket:** Ticket number.\n",
    "\n",
    "**10. Fare:** How much money the passenger has paid for the travel journey.\n",
    "\n",
    "**11. Cabin:** Cabin number of the passenger. *\"NaN\"* values in this column indicates that the cabin number of that particular passenger has not been recorded."
   ]
  },
  {
   "cell_type": "code",
   "execution_count": 4,
   "metadata": {},
   "outputs": [
    {
     "name": "stdout",
     "output_type": "stream",
     "text": [
      "<class 'pandas.core.frame.DataFrame'>\n",
      "RangeIndex: 891 entries, 0 to 890\n",
      "Data columns (total 12 columns):\n",
      " #   Column       Non-Null Count  Dtype  \n",
      "---  ------       --------------  -----  \n",
      " 0   PassengerId  891 non-null    int64  \n",
      " 1   Survived     891 non-null    int64  \n",
      " 2   Pclass       891 non-null    int64  \n",
      " 3   Name         891 non-null    object \n",
      " 4   Sex          891 non-null    object \n",
      " 5   Age          714 non-null    float64\n",
      " 6   SibSp        891 non-null    int64  \n",
      " 7   Parch        891 non-null    int64  \n",
      " 8   Ticket       891 non-null    object \n",
      " 9   Fare         891 non-null    float64\n",
      " 10  Cabin        204 non-null    object \n",
      " 11  Embarked     889 non-null    object \n",
      "dtypes: float64(2), int64(5), object(5)\n",
      "memory usage: 83.7+ KB\n",
      "_____________________________________________\n",
      "<class 'pandas.core.frame.DataFrame'>\n",
      "Int64Index: 418 entries, 892 to 1309\n",
      "Data columns (total 10 columns):\n",
      " #   Column    Non-Null Count  Dtype  \n",
      "---  ------    --------------  -----  \n",
      " 0   Pclass    418 non-null    int64  \n",
      " 1   Name      418 non-null    object \n",
      " 2   Sex       418 non-null    object \n",
      " 3   Age       332 non-null    float64\n",
      " 4   SibSp     418 non-null    int64  \n",
      " 5   Parch     418 non-null    int64  \n",
      " 6   Ticket    418 non-null    object \n",
      " 7   Fare      417 non-null    float64\n",
      " 8   Cabin     91 non-null     object \n",
      " 9   Embarked  418 non-null    object \n",
      "dtypes: float64(2), int64(3), object(5)\n",
      "memory usage: 35.9+ KB\n"
     ]
    }
   ],
   "source": [
    "# a quick discription of datasets\n",
    "train.info()\n",
    "print('_'*45)\n",
    "test.info()"
   ]
  },
  {
   "cell_type": "markdown",
   "metadata": {},
   "source": [
    "We can see from the tables that Age feature has some missing for many rows. Missing values in this column indicates that the age of that particular passenger has not been recorded.\n",
    "Similarly, Cabin values are also missing in many rows."
   ]
  },
  {
   "cell_type": "code",
   "execution_count": 5,
   "metadata": {},
   "outputs": [
    {
     "name": "stdout",
     "output_type": "stream",
     "text": [
      "PassengerId      0\n",
      "Survived         0\n",
      "Pclass           0\n",
      "Name             0\n",
      "Sex              0\n",
      "Age            177\n",
      "SibSp            0\n",
      "Parch            0\n",
      "Ticket           0\n",
      "Fare             0\n",
      "Cabin          687\n",
      "Embarked         2\n",
      "dtype: int64\n",
      "_____________________________________________ \n",
      "\n",
      "Pclass        0\n",
      "Name          0\n",
      "Sex           0\n",
      "Age          86\n",
      "SibSp         0\n",
      "Parch         0\n",
      "Ticket        0\n",
      "Fare          1\n",
      "Cabin       327\n",
      "Embarked      0\n",
      "dtype: int64\n"
     ]
    }
   ],
   "source": [
    "print(train.isnull().sum())\n",
    "print('_'*45, '\\n')\n",
    "print(test.isnull().sum())"
   ]
  },
  {
   "cell_type": "markdown",
   "metadata": {},
   "source": [
    "There are 177 rows with missing *Age*, 687 rows with missing *Cabin* and 2 rows with missing *Embarked* from train set.\n",
    "\n",
    "Likewise, There are 86 rows with missing *Age*, 327 rows with missing *Cabin* and 1 row with missing *Fare* from test set."
   ]
  },
  {
   "cell_type": "markdown",
   "metadata": {},
   "source": [
    "### Total rows and columns\n",
    "\n",
    "We can see that there are 891 rows and 12 columns in our training dataset."
   ]
  },
  {
   "cell_type": "code",
   "execution_count": 6,
   "metadata": {},
   "outputs": [
    {
     "name": "stdout",
     "output_type": "stream",
     "text": [
      "train set shape: (891, 12)\n"
     ]
    }
   ],
   "source": [
    "print(f\"train set shape: {train.shape}\")"
   ]
  },
  {
   "cell_type": "markdown",
   "metadata": {},
   "source": [
    "### Describing training dataset\n",
    "\n",
    "describe() method can show different values like count, mean, standard deviation, etc. of numeric data types"
   ]
  },
  {
   "cell_type": "code",
   "execution_count": 7,
   "metadata": {},
   "outputs": [
    {
     "data": {
      "text/html": [
       "<div>\n",
       "<style scoped>\n",
       "    .dataframe tbody tr th:only-of-type {\n",
       "        vertical-align: middle;\n",
       "    }\n",
       "\n",
       "    .dataframe tbody tr th {\n",
       "        vertical-align: top;\n",
       "    }\n",
       "\n",
       "    .dataframe thead th {\n",
       "        text-align: right;\n",
       "    }\n",
       "</style>\n",
       "<table border=\"1\" class=\"dataframe\">\n",
       "  <thead>\n",
       "    <tr style=\"text-align: right;\">\n",
       "      <th></th>\n",
       "      <th>PassengerId</th>\n",
       "      <th>Survived</th>\n",
       "      <th>Pclass</th>\n",
       "      <th>Age</th>\n",
       "      <th>SibSp</th>\n",
       "      <th>Parch</th>\n",
       "      <th>Fare</th>\n",
       "    </tr>\n",
       "  </thead>\n",
       "  <tbody>\n",
       "    <tr>\n",
       "      <th>count</th>\n",
       "      <td>891.00</td>\n",
       "      <td>891.00</td>\n",
       "      <td>891.00</td>\n",
       "      <td>714.00</td>\n",
       "      <td>891.00</td>\n",
       "      <td>891.00</td>\n",
       "      <td>891.00</td>\n",
       "    </tr>\n",
       "    <tr>\n",
       "      <th>mean</th>\n",
       "      <td>446.00</td>\n",
       "      <td>0.38</td>\n",
       "      <td>2.31</td>\n",
       "      <td>29.70</td>\n",
       "      <td>0.52</td>\n",
       "      <td>0.38</td>\n",
       "      <td>32.20</td>\n",
       "    </tr>\n",
       "    <tr>\n",
       "      <th>std</th>\n",
       "      <td>257.35</td>\n",
       "      <td>0.49</td>\n",
       "      <td>0.84</td>\n",
       "      <td>14.53</td>\n",
       "      <td>1.10</td>\n",
       "      <td>0.81</td>\n",
       "      <td>49.69</td>\n",
       "    </tr>\n",
       "    <tr>\n",
       "      <th>min</th>\n",
       "      <td>1.00</td>\n",
       "      <td>0.00</td>\n",
       "      <td>1.00</td>\n",
       "      <td>0.42</td>\n",
       "      <td>0.00</td>\n",
       "      <td>0.00</td>\n",
       "      <td>0.00</td>\n",
       "    </tr>\n",
       "    <tr>\n",
       "      <th>25%</th>\n",
       "      <td>223.50</td>\n",
       "      <td>0.00</td>\n",
       "      <td>2.00</td>\n",
       "      <td>20.12</td>\n",
       "      <td>0.00</td>\n",
       "      <td>0.00</td>\n",
       "      <td>7.91</td>\n",
       "    </tr>\n",
       "    <tr>\n",
       "      <th>50%</th>\n",
       "      <td>446.00</td>\n",
       "      <td>0.00</td>\n",
       "      <td>3.00</td>\n",
       "      <td>28.00</td>\n",
       "      <td>0.00</td>\n",
       "      <td>0.00</td>\n",
       "      <td>14.45</td>\n",
       "    </tr>\n",
       "    <tr>\n",
       "      <th>75%</th>\n",
       "      <td>668.50</td>\n",
       "      <td>1.00</td>\n",
       "      <td>3.00</td>\n",
       "      <td>38.00</td>\n",
       "      <td>1.00</td>\n",
       "      <td>0.00</td>\n",
       "      <td>31.00</td>\n",
       "    </tr>\n",
       "    <tr>\n",
       "      <th>max</th>\n",
       "      <td>891.00</td>\n",
       "      <td>1.00</td>\n",
       "      <td>3.00</td>\n",
       "      <td>80.00</td>\n",
       "      <td>8.00</td>\n",
       "      <td>6.00</td>\n",
       "      <td>512.33</td>\n",
       "    </tr>\n",
       "  </tbody>\n",
       "</table>\n",
       "</div>"
      ],
      "text/plain": [
       "       PassengerId  Survived  Pclass     Age   SibSp   Parch    Fare\n",
       "count       891.00    891.00  891.00  714.00  891.00  891.00  891.00\n",
       "mean        446.00      0.38    2.31   29.70    0.52    0.38   32.20\n",
       "std         257.35      0.49    0.84   14.53    1.10    0.81   49.69\n",
       "min           1.00      0.00    1.00    0.42    0.00    0.00    0.00\n",
       "25%         223.50      0.00    2.00   20.12    0.00    0.00    7.91\n",
       "50%         446.00      0.00    3.00   28.00    0.00    0.00   14.45\n",
       "75%         668.50      1.00    3.00   38.00    1.00    0.00   31.00\n",
       "max         891.00      1.00    3.00   80.00    8.00    6.00  512.33"
      ]
     },
     "execution_count": 7,
     "metadata": {},
     "output_type": "execute_result"
    }
   ],
   "source": [
    "# train description\n",
    "train.describe().round(2)"
   ]
  },
  {
   "cell_type": "code",
   "execution_count": 8,
   "metadata": {},
   "outputs": [
    {
     "data": {
      "text/html": [
       "<div>\n",
       "<style scoped>\n",
       "    .dataframe tbody tr th:only-of-type {\n",
       "        vertical-align: middle;\n",
       "    }\n",
       "\n",
       "    .dataframe tbody tr th {\n",
       "        vertical-align: top;\n",
       "    }\n",
       "\n",
       "    .dataframe thead th {\n",
       "        text-align: right;\n",
       "    }\n",
       "</style>\n",
       "<table border=\"1\" class=\"dataframe\">\n",
       "  <thead>\n",
       "    <tr style=\"text-align: right;\">\n",
       "      <th></th>\n",
       "      <th>Pclass</th>\n",
       "      <th>Age</th>\n",
       "      <th>SibSp</th>\n",
       "      <th>Parch</th>\n",
       "      <th>Fare</th>\n",
       "    </tr>\n",
       "  </thead>\n",
       "  <tbody>\n",
       "    <tr>\n",
       "      <th>count</th>\n",
       "      <td>418.00</td>\n",
       "      <td>332.00</td>\n",
       "      <td>418.00</td>\n",
       "      <td>418.00</td>\n",
       "      <td>417.00</td>\n",
       "    </tr>\n",
       "    <tr>\n",
       "      <th>mean</th>\n",
       "      <td>2.27</td>\n",
       "      <td>30.27</td>\n",
       "      <td>0.45</td>\n",
       "      <td>0.39</td>\n",
       "      <td>35.63</td>\n",
       "    </tr>\n",
       "    <tr>\n",
       "      <th>std</th>\n",
       "      <td>0.84</td>\n",
       "      <td>14.18</td>\n",
       "      <td>0.90</td>\n",
       "      <td>0.98</td>\n",
       "      <td>55.91</td>\n",
       "    </tr>\n",
       "    <tr>\n",
       "      <th>min</th>\n",
       "      <td>1.00</td>\n",
       "      <td>0.17</td>\n",
       "      <td>0.00</td>\n",
       "      <td>0.00</td>\n",
       "      <td>0.00</td>\n",
       "    </tr>\n",
       "    <tr>\n",
       "      <th>25%</th>\n",
       "      <td>1.00</td>\n",
       "      <td>21.00</td>\n",
       "      <td>0.00</td>\n",
       "      <td>0.00</td>\n",
       "      <td>7.90</td>\n",
       "    </tr>\n",
       "    <tr>\n",
       "      <th>50%</th>\n",
       "      <td>3.00</td>\n",
       "      <td>27.00</td>\n",
       "      <td>0.00</td>\n",
       "      <td>0.00</td>\n",
       "      <td>14.45</td>\n",
       "    </tr>\n",
       "    <tr>\n",
       "      <th>75%</th>\n",
       "      <td>3.00</td>\n",
       "      <td>39.00</td>\n",
       "      <td>1.00</td>\n",
       "      <td>0.00</td>\n",
       "      <td>31.50</td>\n",
       "    </tr>\n",
       "    <tr>\n",
       "      <th>max</th>\n",
       "      <td>3.00</td>\n",
       "      <td>76.00</td>\n",
       "      <td>8.00</td>\n",
       "      <td>9.00</td>\n",
       "      <td>512.33</td>\n",
       "    </tr>\n",
       "  </tbody>\n",
       "</table>\n",
       "</div>"
      ],
      "text/plain": [
       "       Pclass     Age   SibSp   Parch    Fare\n",
       "count  418.00  332.00  418.00  418.00  417.00\n",
       "mean     2.27   30.27    0.45    0.39   35.63\n",
       "std      0.84   14.18    0.90    0.98   55.91\n",
       "min      1.00    0.17    0.00    0.00    0.00\n",
       "25%      1.00   21.00    0.00    0.00    7.90\n",
       "50%      3.00   27.00    0.00    0.00   14.45\n",
       "75%      3.00   39.00    1.00    0.00   31.50\n",
       "max      3.00   76.00    8.00    9.00  512.33"
      ]
     },
     "execution_count": 8,
     "metadata": {},
     "output_type": "execute_result"
    }
   ],
   "source": [
    "# test description\n",
    "test.describe().round(2)"
   ]
  },
  {
   "cell_type": "markdown",
   "metadata": {},
   "source": [
    "Following will show the descriptive statistics of object data types."
   ]
  },
  {
   "cell_type": "code",
   "execution_count": 9,
   "metadata": {},
   "outputs": [
    {
     "data": {
      "text/html": [
       "<div>\n",
       "<style scoped>\n",
       "    .dataframe tbody tr th:only-of-type {\n",
       "        vertical-align: middle;\n",
       "    }\n",
       "\n",
       "    .dataframe tbody tr th {\n",
       "        vertical-align: top;\n",
       "    }\n",
       "\n",
       "    .dataframe thead th {\n",
       "        text-align: right;\n",
       "    }\n",
       "</style>\n",
       "<table border=\"1\" class=\"dataframe\">\n",
       "  <thead>\n",
       "    <tr style=\"text-align: right;\">\n",
       "      <th></th>\n",
       "      <th>Name</th>\n",
       "      <th>Sex</th>\n",
       "      <th>Ticket</th>\n",
       "      <th>Cabin</th>\n",
       "      <th>Embarked</th>\n",
       "    </tr>\n",
       "  </thead>\n",
       "  <tbody>\n",
       "    <tr>\n",
       "      <th>count</th>\n",
       "      <td>891</td>\n",
       "      <td>891</td>\n",
       "      <td>891</td>\n",
       "      <td>204</td>\n",
       "      <td>889</td>\n",
       "    </tr>\n",
       "    <tr>\n",
       "      <th>unique</th>\n",
       "      <td>891</td>\n",
       "      <td>2</td>\n",
       "      <td>681</td>\n",
       "      <td>147</td>\n",
       "      <td>3</td>\n",
       "    </tr>\n",
       "    <tr>\n",
       "      <th>top</th>\n",
       "      <td>Williams, Mr. Leslie</td>\n",
       "      <td>male</td>\n",
       "      <td>347082</td>\n",
       "      <td>G6</td>\n",
       "      <td>S</td>\n",
       "    </tr>\n",
       "    <tr>\n",
       "      <th>freq</th>\n",
       "      <td>1</td>\n",
       "      <td>577</td>\n",
       "      <td>7</td>\n",
       "      <td>4</td>\n",
       "      <td>644</td>\n",
       "    </tr>\n",
       "  </tbody>\n",
       "</table>\n",
       "</div>"
      ],
      "text/plain": [
       "                        Name   Sex  Ticket Cabin Embarked\n",
       "count                    891   891     891   204      889\n",
       "unique                   891     2     681   147        3\n",
       "top     Williams, Mr. Leslie  male  347082    G6        S\n",
       "freq                       1   577       7     4      644"
      ]
     },
     "execution_count": 9,
     "metadata": {},
     "output_type": "execute_result"
    }
   ],
   "source": [
    "train.describe(include=['O'])"
   ]
  },
  {
   "cell_type": "code",
   "execution_count": 10,
   "metadata": {},
   "outputs": [
    {
     "data": {
      "text/html": [
       "<div>\n",
       "<style scoped>\n",
       "    .dataframe tbody tr th:only-of-type {\n",
       "        vertical-align: middle;\n",
       "    }\n",
       "\n",
       "    .dataframe tbody tr th {\n",
       "        vertical-align: top;\n",
       "    }\n",
       "\n",
       "    .dataframe thead th {\n",
       "        text-align: right;\n",
       "    }\n",
       "</style>\n",
       "<table border=\"1\" class=\"dataframe\">\n",
       "  <thead>\n",
       "    <tr style=\"text-align: right;\">\n",
       "      <th></th>\n",
       "      <th>Name</th>\n",
       "      <th>Sex</th>\n",
       "      <th>Ticket</th>\n",
       "      <th>Cabin</th>\n",
       "      <th>Embarked</th>\n",
       "    </tr>\n",
       "  </thead>\n",
       "  <tbody>\n",
       "    <tr>\n",
       "      <th>count</th>\n",
       "      <td>418</td>\n",
       "      <td>418</td>\n",
       "      <td>418</td>\n",
       "      <td>91</td>\n",
       "      <td>418</td>\n",
       "    </tr>\n",
       "    <tr>\n",
       "      <th>unique</th>\n",
       "      <td>418</td>\n",
       "      <td>2</td>\n",
       "      <td>363</td>\n",
       "      <td>76</td>\n",
       "      <td>3</td>\n",
       "    </tr>\n",
       "    <tr>\n",
       "      <th>top</th>\n",
       "      <td>Drapkin, Miss. Jennie</td>\n",
       "      <td>male</td>\n",
       "      <td>PC 17608</td>\n",
       "      <td>B57 B59 B63 B66</td>\n",
       "      <td>S</td>\n",
       "    </tr>\n",
       "    <tr>\n",
       "      <th>freq</th>\n",
       "      <td>1</td>\n",
       "      <td>266</td>\n",
       "      <td>5</td>\n",
       "      <td>3</td>\n",
       "      <td>270</td>\n",
       "    </tr>\n",
       "  </tbody>\n",
       "</table>\n",
       "</div>"
      ],
      "text/plain": [
       "                         Name   Sex    Ticket            Cabin Embarked\n",
       "count                     418   418       418               91      418\n",
       "unique                    418     2       363               76        3\n",
       "top     Drapkin, Miss. Jennie  male  PC 17608  B57 B59 B63 B66        S\n",
       "freq                        1   266         5                3      270"
      ]
     },
     "execution_count": 10,
     "metadata": {},
     "output_type": "execute_result"
    }
   ],
   "source": [
    "test.describe(include=['O'])"
   ]
  },
  {
   "cell_type": "markdown",
   "metadata": {},
   "source": [
    "This presents that there are duplicate Ticket number and Cabins number. The highest number of duplicate ticket number is \"CA. 2343\". It has been repeated 7 times. Similarly, the highest number of people using the same cabin is 4.\n",
    "\n",
    "We also see that 644 people were embarked from port \"S\" in training set.\n",
    "\n",
    "Among 891 rows, 577 were Male and the rest were Female."
   ]
  },
  {
   "cell_type": "markdown",
   "metadata": {},
   "source": [
    "### Relationship between Features and target variable (Survival)\n",
    "We will analyze relationship between different features with respect to Survival on the **train set**. We see how different feature values show different survival chance. We also plot different kinds of diagrams to visualize our data and findings.\n",
    "\n",
    "In total, 38.4% of passengers survived(value of 1) while 61.6% died(value of 0) in train set."
   ]
  },
  {
   "cell_type": "code",
   "execution_count": 11,
   "metadata": {},
   "outputs": [
    {
     "data": {
      "text/plain": [
       "0    0.616162\n",
       "1    0.383838\n",
       "Name: Survived, dtype: float64"
      ]
     },
     "execution_count": 11,
     "metadata": {},
     "output_type": "execute_result"
    }
   ],
   "source": [
    "train.Survived.value_counts(normalize=True)"
   ]
  },
  {
   "cell_type": "markdown",
   "metadata": {},
   "source": [
    "#### Pclass vs. Survival\n",
    "Higher class passengers have better survival chance."
   ]
  },
  {
   "cell_type": "code",
   "execution_count": 12,
   "metadata": {},
   "outputs": [
    {
     "data": {
      "text/plain": [
       "3    491\n",
       "1    216\n",
       "2    184\n",
       "Name: Pclass, dtype: int64"
      ]
     },
     "execution_count": 12,
     "metadata": {},
     "output_type": "execute_result"
    }
   ],
   "source": [
    "train.Pclass.value_counts()"
   ]
  },
  {
   "cell_type": "code",
   "execution_count": 13,
   "metadata": {},
   "outputs": [
    {
     "data": {
      "text/plain": [
       "Pclass  Survived\n",
       "1       1           136\n",
       "        0            80\n",
       "2       0            97\n",
       "        1            87\n",
       "3       0           372\n",
       "        1           119\n",
       "Name: Survived, dtype: int64"
      ]
     },
     "execution_count": 13,
     "metadata": {},
     "output_type": "execute_result"
    }
   ],
   "source": [
    "train.groupby('Pclass').Survived.value_counts()"
   ]
  },
  {
   "cell_type": "code",
   "execution_count": 14,
   "metadata": {},
   "outputs": [
    {
     "data": {
      "text/plain": [
       "<matplotlib.axes._subplots.AxesSubplot at 0x2a5bba43190>"
      ]
     },
     "execution_count": 14,
     "metadata": {},
     "output_type": "execute_result"
    },
    {
     "data": {
      "image/png": "[encoded data removed]",
      "text/plain": [
       "<Figure size 432x288 with 1 Axes>"
      ]
     },
     "metadata": {
      "needs_background": "light"
     },
     "output_type": "display_data"
    }
   ],
   "source": [
    "sns.barplot(x='Pclass', y='Survived', data=train)"
   ]
  },
  {
   "cell_type": "markdown",
   "metadata": {},
   "source": [
    "#### Sex vs. Survival\n",
    "Females had better survival chance."
   ]
  },
  {
   "cell_type": "code",
   "execution_count": 15,
   "metadata": {},
   "outputs": [
    {
     "data": {
      "text/plain": [
       "male      577\n",
       "female    314\n",
       "Name: Sex, dtype: int64"
      ]
     },
     "execution_count": 15,
     "metadata": {},
     "output_type": "execute_result"
    }
   ],
   "source": [
    "train.Sex.value_counts()"
   ]
  },
  {
   "cell_type": "code",
   "execution_count": 16,
   "metadata": {},
   "outputs": [
    {
     "data": {
      "text/plain": [
       "Sex     Survived\n",
       "female  1           233\n",
       "        0            81\n",
       "male    0           468\n",
       "        1           109\n",
       "Name: Survived, dtype: int64"
      ]
     },
     "execution_count": 16,
     "metadata": {},
     "output_type": "execute_result"
    }
   ],
   "source": [
    "train.groupby('Sex').Survived.value_counts()"
   ]
  },
  {
   "cell_type": "code",
   "execution_count": 17,
   "metadata": {},
   "outputs": [
    {
     "data": {
      "text/plain": [
       "<matplotlib.axes._subplots.AxesSubplot at 0x2a5bc182b80>"
      ]
     },
     "execution_count": 17,
     "metadata": {},
     "output_type": "execute_result"
    },
    {
     "data": {
      "image/png": "[encoded data removed]",
      "text/plain": [
       "<Figure size 432x288 with 1 Axes>"
      ]
     },
     "metadata": {
      "needs_background": "light"
     },
     "output_type": "display_data"
    }
   ],
   "source": [
    "sns.barplot(x='Sex', y='Survived', data=train)"
   ]
  },
  {
   "cell_type": "markdown",
   "metadata": {},
   "source": [
    "#### Embarked vs. Survival\n",
    "People who are in C category had better survival chance"
   ]
  },
  {
   "cell_type": "code",
   "execution_count": 18,
   "metadata": {},
   "outputs": [
    {
     "data": {
      "text/plain": [
       "S    644\n",
       "C    168\n",
       "Q     77\n",
       "Name: Embarked, dtype: int64"
      ]
     },
     "execution_count": 18,
     "metadata": {},
     "output_type": "execute_result"
    }
   ],
   "source": [
    "train.Embarked.value_counts()"
   ]
  },
  {
   "cell_type": "code",
   "execution_count": 19,
   "metadata": {},
   "outputs": [
    {
     "data": {
      "text/plain": [
       "Embarked  Survived\n",
       "C         1            93\n",
       "          0            75\n",
       "Q         0            47\n",
       "          1            30\n",
       "S         0           427\n",
       "          1           217\n",
       "Name: Survived, dtype: int64"
      ]
     },
     "execution_count": 19,
     "metadata": {},
     "output_type": "execute_result"
    }
   ],
   "source": [
    "train.groupby('Embarked').Survived.value_counts()"
   ]
  },
  {
   "cell_type": "code",
   "execution_count": 20,
   "metadata": {},
   "outputs": [
    {
     "data": {
      "text/plain": [
       "<matplotlib.axes._subplots.AxesSubplot at 0x2a5bc1f2190>"
      ]
     },
     "execution_count": 20,
     "metadata": {},
     "output_type": "execute_result"
    },
    {
     "data": {
      "image/png": "[encoded data removed]",
      "text/plain": [
       "<Figure size 432x288 with 1 Axes>"
      ]
     },
     "metadata": {
      "needs_background": "light"
     },
     "output_type": "display_data"
    }
   ],
   "source": [
    "sns.barplot(x='Embarked', y='Survived', data=train)"
   ]
  },
  {
   "cell_type": "markdown",
   "metadata": {},
   "source": [
    "#### Pclass, Sex & Embarked vs. Survival"
   ]
  },
  {
   "cell_type": "code",
   "execution_count": 21,
   "metadata": {},
   "outputs": [
    {
     "data": {
      "text/plain": [
       "<seaborn.axisgrid.FacetGrid at 0x2a5bc25df10>"
      ]
     },
     "execution_count": 21,
     "metadata": {},
     "output_type": "execute_result"
    },
    {
     "data": {
      "image/png": "[encoded data removed]",
      "text/plain": [
       "<Figure size 1150.5x360 with 3 Axes>"
      ]
     },
     "metadata": {
      "needs_background": "light"
     },
     "output_type": "display_data"
    }
   ],
   "source": [
    "sns.catplot(x='Pclass', y='Survived', hue='Sex', col='Embarked', data=train, kind='point')"
   ]
  },
  {
   "cell_type": "markdown",
   "metadata": {},
   "source": [
    "From the above plot, it can be seen that:\n",
    "\n",
    "- Almost all females from Pclass 1 and 2 survived.\n",
    "- Females dying were mostly from 3rd Pclass.\n",
    "- Males from Pclass 1 only have slightly higher survival chance than Pclass 2 and 3."
   ]
  },
  {
   "cell_type": "markdown",
   "metadata": {},
   "source": [
    "#### Parch vs. Survival"
   ]
  },
  {
   "cell_type": "code",
   "execution_count": 22,
   "metadata": {},
   "outputs": [
    {
     "data": {
      "text/plain": [
       "0    678\n",
       "1    118\n",
       "2     80\n",
       "5      5\n",
       "3      5\n",
       "4      4\n",
       "6      1\n",
       "Name: Parch, dtype: int64"
      ]
     },
     "execution_count": 22,
     "metadata": {},
     "output_type": "execute_result"
    }
   ],
   "source": [
    "train.Parch.value_counts()"
   ]
  },
  {
   "cell_type": "code",
   "execution_count": 23,
   "metadata": {},
   "outputs": [
    {
     "data": {
      "text/plain": [
       "Parch  Survived\n",
       "0      0           445\n",
       "       1           233\n",
       "1      1            65\n",
       "       0            53\n",
       "2      0            40\n",
       "       1            40\n",
       "3      1             3\n",
       "       0             2\n",
       "4      0             4\n",
       "5      0             4\n",
       "       1             1\n",
       "6      0             1\n",
       "Name: Survived, dtype: int64"
      ]
     },
     "execution_count": 23,
     "metadata": {},
     "output_type": "execute_result"
    }
   ],
   "source": [
    "train.groupby('Parch').Survived.value_counts()"
   ]
  },
  {
   "cell_type": "code",
   "execution_count": 24,
   "metadata": {},
   "outputs": [
    {
     "data": {
      "text/plain": [
       "<matplotlib.axes._subplots.AxesSubplot at 0x2a5af2399d0>"
      ]
     },
     "execution_count": 24,
     "metadata": {},
     "output_type": "execute_result"
    },
    {
     "data": {
      "image/png": "[encoded data removed]",
      "text/plain": [
       "<Figure size 432x288 with 1 Axes>"
      ]
     },
     "metadata": {
      "needs_background": "light"
     },
     "output_type": "display_data"
    }
   ],
   "source": [
    "sns.barplot(x='Parch', y='Survived', data=train)"
   ]
  },
  {
   "cell_type": "markdown",
   "metadata": {},
   "source": [
    "#### SibSp vs. Survival"
   ]
  },
  {
   "cell_type": "code",
   "execution_count": 25,
   "metadata": {},
   "outputs": [
    {
     "data": {
      "text/plain": [
       "0    608\n",
       "1    209\n",
       "2     28\n",
       "4     18\n",
       "3     16\n",
       "8      7\n",
       "5      5\n",
       "Name: SibSp, dtype: int64"
      ]
     },
     "execution_count": 25,
     "metadata": {},
     "output_type": "execute_result"
    }
   ],
   "source": [
    "train.SibSp.value_counts()"
   ]
  },
  {
   "cell_type": "code",
   "execution_count": 26,
   "metadata": {},
   "outputs": [
    {
     "data": {
      "text/plain": [
       "SibSp  Survived\n",
       "0      0           398\n",
       "       1           210\n",
       "1      1           112\n",
       "       0            97\n",
       "2      0            15\n",
       "       1            13\n",
       "3      0            12\n",
       "       1             4\n",
       "4      0            15\n",
       "       1             3\n",
       "5      0             5\n",
       "8      0             7\n",
       "Name: Survived, dtype: int64"
      ]
     },
     "execution_count": 26,
     "metadata": {},
     "output_type": "execute_result"
    }
   ],
   "source": [
    "train.groupby('SibSp').Survived.value_counts()"
   ]
  },
  {
   "cell_type": "code",
   "execution_count": 27,
   "metadata": {},
   "outputs": [
    {
     "data": {
      "text/plain": [
       "<matplotlib.axes._subplots.AxesSubplot at 0x2a5bc5bddf0>"
      ]
     },
     "execution_count": 27,
     "metadata": {},
     "output_type": "execute_result"
    },
    {
     "data": {
      "image/png": "[encoded data removed]",
      "text/plain": [
       "<Figure size 432x288 with 1 Axes>"
      ]
     },
     "metadata": {
      "needs_background": "light"
     },
     "output_type": "display_data"
    }
   ],
   "source": [
    "sns.barplot(x='SibSp', y='Survived', data=train)"
   ]
  },
  {
   "cell_type": "markdown",
   "metadata": {},
   "source": [
    "#### Age vs. Survival"
   ]
  },
  {
   "cell_type": "code",
   "execution_count": 28,
   "metadata": {},
   "outputs": [
    {
     "data": {
      "text/plain": [
       "<matplotlib.legend.Legend at 0x2a5bc8bb460>"
      ]
     },
     "execution_count": 28,
     "metadata": {},
     "output_type": "execute_result"
    },
    {
     "data": {
      "image/png": "[encoded data removed]",
      "text/plain": [
       "<Figure size 1080x360 with 1 Axes>"
      ]
     },
     "metadata": {
      "needs_background": "light"
     },
     "output_type": "display_data"
    },
    {
     "data": {
      "image/png": "[encoded data removed]",
      "text/plain": [
       "<Figure size 1080x360 with 2 Axes>"
      ]
     },
     "metadata": {
      "needs_background": "light"
     },
     "output_type": "display_data"
    }
   ],
   "source": [
    "total_survived = train[train['Survived']==1]\n",
    "total_not_survived = train[train['Survived']==0]\n",
    "male_survived = train[(train['Survived']==1) & (train['Sex']==\"male\")]\n",
    "female_survived = train[(train['Survived']==1) & (train['Sex']==\"female\")]\n",
    "male_not_survived = train[(train['Survived']==0) & (train['Sex']==\"male\")]\n",
    "female_not_survived = train[(train['Survived']==0) & (train['Sex']==\"female\")]\n",
    "\n",
    "plt.figure(figsize=[15,5])\n",
    "plt.subplot(111)\n",
    "sns.distplot(total_survived['Age'].dropna().values, kde=False, color='blue')\n",
    "sns.distplot(total_not_survived['Age'].dropna().values, kde=False, color='red', axlabel='Age')\n",
    "plt.legend(['Total Survival', 'Total Not Survival'])\n",
    "plt.figure(figsize=[15,5])\n",
    "\n",
    "plt.subplot(121)\n",
    "sns.distplot(female_survived['Age'].dropna().values, kde=False, color='blue')\n",
    "sns.distplot(female_not_survived['Age'].dropna().values, kde=False, color='red', axlabel='Female Age')\n",
    "plt.legend(['Total Survival', 'Total Not Survival'])\n",
    "\n",
    "plt.subplot(122)\n",
    "sns.distplot(male_survived['Age'].dropna().values, kde=False, color='blue')\n",
    "sns.distplot(male_not_survived['Age'].dropna().values, kde=False, color='red', axlabel='Male Age')\n",
    "plt.legend(['Total Survival', 'Total Not Survival'])"
   ]
  },
  {
   "cell_type": "markdown",
   "metadata": {},
   "source": [
    "As can be seen:\n",
    "\n",
    "- From Combining male and female data, children with age between <u>0 to 5</u> have more chance for survival.\n",
    "- <u>*Females*</u> with age between <u>18 to 40</u> and <u>50 and above</u> have higher chance of survival.\n",
    "- <u>*Males*</u> with age between <u>0 to 14</u> have better chance of survival."
   ]
  },
  {
   "cell_type": "markdown",
   "metadata": {},
   "source": [
    "#### Correlations between the features\n",
    "In this case, we focus on the features that have strong positive or negative correlation with the Survived feature."
   ]
  },
  {
   "cell_type": "code",
   "execution_count": 29,
   "metadata": {},
   "outputs": [
    {
     "data": {
      "image/png": "[encoded data removed]",
      "text/plain": [
       "<Figure size 1080x504 with 2 Axes>"
      ]
     },
     "metadata": {
      "needs_background": "light"
     },
     "output_type": "display_data"
    }
   ],
   "source": [
    "plt.figure(figsize=(15,7))\n",
    "sns.heatmap(train.drop('PassengerId',axis=1).corr(), vmax=0.6, square=True, annot=True, cmap='Blues')\n",
    "plt.title('Correlations matrix')\n",
    "plt.tight_layout()"
   ]
  },
  {
   "cell_type": "markdown",
   "metadata": {},
   "source": [
    "## 3. Prepare data for modelling"
   ]
  },
  {
   "cell_type": "markdown",
   "metadata": {},
   "source": [
    "### 3.1 Feaure engineering"
   ]
  },
  {
   "cell_type": "markdown",
   "metadata": {},
   "source": [
    "I will define a function to replace *NaN* values with mode value for some features. Then, a function will be define to convert NaN values to **Unknown**. One more function will be defied to convert categorical variables to numerics."
   ]
  },
  {
   "cell_type": "code",
   "execution_count": 30,
   "metadata": {},
   "outputs": [],
   "source": [
    "# Define function to do so\n",
    "def impute_nan_most_frequent_category(DataFrame, ColName):\n",
    "    # .mode()[0] - gives first category name\n",
    "    most_frequent_category=DataFrame[ColName].mode()[0]\n",
    "    \n",
    "    # replace nan values with most occured category\n",
    "    DataFrame[ColName + \"_Imputed\"] = DataFrame[ColName]\n",
    "    DataFrame[ColName + \"_Imputed\"].fillna(most_frequent_category,inplace=True)"
   ]
  },
  {
   "cell_type": "code",
   "execution_count": 31,
   "metadata": {},
   "outputs": [],
   "source": [
    "# Convert NaN as a category\n",
    "def convert_nan_to_category(DataFrame, ColName):\n",
    "    DataFrame[ColName] = np.where(DataFrame[ColName].isnull(), \"Unknown\", DataFrame[ColName])"
   ]
  },
  {
   "cell_type": "code",
   "execution_count": 32,
   "metadata": {},
   "outputs": [],
   "source": [
    "# Encoding Categorical Values\n",
    "def cat_to_num(DataFrame, ImputedCol):\n",
    "    DataFrame[ImputedCol] = DataFrame[ImputedCol].astype('category')\n",
    "    DataFrame[ImputedCol + \"_Encoded\"] = DataFrame[ImputedCol].cat.codes"
   ]
  },
  {
   "cell_type": "markdown",
   "metadata": {},
   "source": [
    "#### Embarked feature\n",
    "Embarked feature has some *NaN* value that should be imputed. We saw that category \"S\" has maximum passengers in previous section. Hence, I replace *NaN* values with \"S\" by defined function ( impute_nan_most_frequent_category )."
   ]
  },
  {
   "cell_type": "code",
   "execution_count": 33,
   "metadata": {},
   "outputs": [
    {
     "data": {
      "text/plain": [
       "array(['S', 'C', 'Q', nan], dtype=object)"
      ]
     },
     "execution_count": 33,
     "metadata": {},
     "output_type": "execute_result"
    }
   ],
   "source": [
    "train.Embarked.unique()"
   ]
  },
  {
   "cell_type": "code",
   "execution_count": 34,
   "metadata": {},
   "outputs": [],
   "source": [
    "# Replace Embared columns with most frequency values\n",
    "impute_nan_most_frequent_category(train, \"Embarked\")"
   ]
  },
  {
   "cell_type": "markdown",
   "metadata": {},
   "source": [
    " Then, it should be encoded into numerics by defined function ( cat_to_num )."
   ]
  },
  {
   "cell_type": "code",
   "execution_count": 35,
   "metadata": {},
   "outputs": [],
   "source": [
    "# Encoded into the numerics\n",
    "cat_to_num(train, 'Embarked_Imputed')"
   ]
  },
  {
   "cell_type": "markdown",
   "metadata": {},
   "source": [
    "#### Cabin feature\n",
    "Cabin feature has some *NaN* that should be known as \"Unknown\". This is, some passengers has no cabin. They are grouped as **Unknown** by the defined function ( convert_nan_to_category )."
   ]
  },
  {
   "cell_type": "code",
   "execution_count": 36,
   "metadata": {},
   "outputs": [],
   "source": [
    "# Replace NaN with Unknown\n",
    "convert_nan_to_category(train, 'Cabin')"
   ]
  },
  {
   "cell_type": "markdown",
   "metadata": {},
   "source": [
    "Next, a new column is created for writing the categorical value from Cabin. Then, the feature should be encoded into numerics by defined function ( cat_to_num )"
   ]
  },
  {
   "cell_type": "code",
   "execution_count": 37,
   "metadata": {},
   "outputs": [
    {
     "name": "stderr",
     "output_type": "stream",
     "text": [
      "<ipython-input-37-3ae025c2e5ba>:5: SettingWithCopyWarning: \n",
      "A value is trying to be set on a copy of a slice from a DataFrame\n",
      "\n",
      "See the caveats in the documentation: https://pandas.pydata.org/pandas-docs/stable/user_guide/indexing.html#returning-a-view-versus-a-copy\n",
      "  train.Cabin_Cat[i] = train['Cabin'][i][0]\n",
      "C:\\Users\\mosta\\anaconda3\\lib\\site-packages\\pandas\\core\\indexing.py:671: SettingWithCopyWarning: \n",
      "A value is trying to be set on a copy of a slice from a DataFrame\n",
      "\n",
      "See the caveats in the documentation: https://pandas.pydata.org/pandas-docs/stable/user_guide/indexing.html#returning-a-view-versus-a-copy\n",
      "  self._setitem_with_indexer(indexer, value)\n"
     ]
    }
   ],
   "source": [
    "# New column for making the categorical value from Cabin\n",
    "train['Cabin_Cat'] = np.zeros((train.Cabin.shape[0]))\n",
    "\n",
    "for i in range(train.Cabin.shape[0]):\n",
    "    train.Cabin_Cat[i] = train['Cabin'][i][0]"
   ]
  },
  {
   "cell_type": "code",
   "execution_count": 38,
   "metadata": {},
   "outputs": [],
   "source": [
    "# Encoded into the numerics\n",
    "cat_to_num(train, 'Cabin_Cat')"
   ]
  },
  {
   "cell_type": "markdown",
   "metadata": {},
   "source": [
    "#### Sex features\n",
    "This feature will be converted into numerics by defined function ( cat_to_num )."
   ]
  },
  {
   "cell_type": "code",
   "execution_count": 39,
   "metadata": {},
   "outputs": [],
   "source": [
    "# Encoded into the numerics\n",
    "cat_to_num(train, 'Sex')"
   ]
  },
  {
   "cell_type": "markdown",
   "metadata": {},
   "source": [
    "#### SibSp and Parch Feature\n",
    "Let's create a new feature named **Family_Size**. This feature is used to check how is the survival chance while travelling alone as compared to travelling with number of families"
   ]
  },
  {
   "cell_type": "code",
   "execution_count": 40,
   "metadata": {},
   "outputs": [],
   "source": [
    "# Linear combinations of family size\n",
    "train['Family_Size'] = train['SibSp'] + train['Parch']"
   ]
  },
  {
   "cell_type": "code",
   "execution_count": 41,
   "metadata": {},
   "outputs": [
    {
     "data": {
      "text/html": [
       "<div>\n",
       "<style scoped>\n",
       "    .dataframe tbody tr th:only-of-type {\n",
       "        vertical-align: middle;\n",
       "    }\n",
       "\n",
       "    .dataframe tbody tr th {\n",
       "        vertical-align: top;\n",
       "    }\n",
       "\n",
       "    .dataframe thead th {\n",
       "        text-align: right;\n",
       "    }\n",
       "</style>\n",
       "<table border=\"1\" class=\"dataframe\">\n",
       "  <thead>\n",
       "    <tr style=\"text-align: right;\">\n",
       "      <th></th>\n",
       "      <th>Family_Size</th>\n",
       "      <th>Survived</th>\n",
       "    </tr>\n",
       "  </thead>\n",
       "  <tbody>\n",
       "    <tr>\n",
       "      <th>0</th>\n",
       "      <td>0</td>\n",
       "      <td>0.303538</td>\n",
       "    </tr>\n",
       "    <tr>\n",
       "      <th>1</th>\n",
       "      <td>1</td>\n",
       "      <td>0.552795</td>\n",
       "    </tr>\n",
       "    <tr>\n",
       "      <th>2</th>\n",
       "      <td>2</td>\n",
       "      <td>0.578431</td>\n",
       "    </tr>\n",
       "    <tr>\n",
       "      <th>3</th>\n",
       "      <td>3</td>\n",
       "      <td>0.724138</td>\n",
       "    </tr>\n",
       "    <tr>\n",
       "      <th>4</th>\n",
       "      <td>4</td>\n",
       "      <td>0.200000</td>\n",
       "    </tr>\n",
       "    <tr>\n",
       "      <th>5</th>\n",
       "      <td>5</td>\n",
       "      <td>0.136364</td>\n",
       "    </tr>\n",
       "    <tr>\n",
       "      <th>6</th>\n",
       "      <td>6</td>\n",
       "      <td>0.333333</td>\n",
       "    </tr>\n",
       "    <tr>\n",
       "      <th>7</th>\n",
       "      <td>7</td>\n",
       "      <td>0.000000</td>\n",
       "    </tr>\n",
       "    <tr>\n",
       "      <th>8</th>\n",
       "      <td>10</td>\n",
       "      <td>0.000000</td>\n",
       "    </tr>\n",
       "  </tbody>\n",
       "</table>\n",
       "</div>"
      ],
      "text/plain": [
       "   Family_Size  Survived\n",
       "0            0  0.303538\n",
       "1            1  0.552795\n",
       "2            2  0.578431\n",
       "3            3  0.724138\n",
       "4            4  0.200000\n",
       "5            5  0.136364\n",
       "6            6  0.333333\n",
       "7            7  0.000000\n",
       "8           10  0.000000"
      ]
     },
     "execution_count": 41,
     "metadata": {},
     "output_type": "execute_result"
    }
   ],
   "source": [
    "train[['Family_Size', 'Survived']].groupby(['Family_Size'], as_index=False).mean()"
   ]
  },
  {
   "cell_type": "markdown",
   "metadata": {},
   "source": [
    "The result shows that:\n",
    "\n",
    "- Having FamilySize upto 4 (from 2 to 4) had better survival chance.\n",
    "- FamilySize = 1, i.e. travelling alone had less survival chance.\n",
    "- Large FamilySize (size of 5 and above) also had less survival chance."
   ]
  },
  {
   "cell_type": "markdown",
   "metadata": {},
   "source": [
    "Hence, I will create a new feature named **Alone**. This feature is used to check whether there is a chance to survive when you are alone or not.\n",
    "\n",
    "This represents that the passengers who travelled alone had 55.2% survival chance."
   ]
  },
  {
   "cell_type": "code",
   "execution_count": 42,
   "metadata": {},
   "outputs": [
    {
     "name": "stdout",
     "output_type": "stream",
     "text": [
      "   Alone  Survived\n",
      "0      0  0.346575\n",
      "1      1  0.552795\n"
     ]
    }
   ],
   "source": [
    "for dataset in [train]:\n",
    "    dataset['Alone'] = 0\n",
    "    dataset.loc[dataset['Family_Size'] == 1, 'Alone'] = 1\n",
    "    \n",
    "print (train[['Alone', 'Survived']].groupby(['Alone'], as_index=False).mean())"
   ]
  },
  {
   "cell_type": "markdown",
   "metadata": {},
   "source": [
    "#### Name Feature\n",
    "I will extract titles from Name column. I will add a new column named **Title** in the Train and test dataset with the Title present in the particular passenger name. I will also replace some less common titles with the name \"Other\"."
   ]
  },
  {
   "cell_type": "code",
   "execution_count": 43,
   "metadata": {},
   "outputs": [],
   "source": [
    "# Extract Title from the Name feature\n",
    "train_test_data = [train, test]\n",
    "for dataset in train_test_data:\n",
    "    dataset['Title'] = dataset.Name.str.extract(' ([A-Za-z]+)\\.')\n",
    "\n",
    "for dataset in train_test_data:\n",
    "    dataset['Title'] = dataset['Title'].replace(['Lady', 'Countess','Capt', 'Col','Don', 'Dr', 'Major', 'Rev', 'Sir', 'Jonkheer', 'Dona'], 'Other')\n",
    "\n",
    "    dataset['Title'] = dataset['Title'].replace('Mlle', 'Miss')\n",
    "    dataset['Title'] = dataset['Title'].replace('Ms', 'Miss')\n",
    "    dataset['Title'] = dataset['Title'].replace('Mme', 'Mrs')\n"
   ]
  },
  {
   "cell_type": "markdown",
   "metadata": {},
   "source": [
    " After that, I will convert the categorical Title values into numerics form on the train set."
   ]
  },
  {
   "cell_type": "code",
   "execution_count": 44,
   "metadata": {},
   "outputs": [],
   "source": [
    "cat_to_num(train, 'Title')"
   ]
  },
  {
   "cell_type": "markdown",
   "metadata": {},
   "source": [
    "I will drop the useless features till now."
   ]
  },
  {
   "cell_type": "code",
   "execution_count": 45,
   "metadata": {},
   "outputs": [
    {
     "data": {
      "text/html": [
       "<div>\n",
       "<style scoped>\n",
       "    .dataframe tbody tr th:only-of-type {\n",
       "        vertical-align: middle;\n",
       "    }\n",
       "\n",
       "    .dataframe tbody tr th {\n",
       "        vertical-align: top;\n",
       "    }\n",
       "\n",
       "    .dataframe thead th {\n",
       "        text-align: right;\n",
       "    }\n",
       "</style>\n",
       "<table border=\"1\" class=\"dataframe\">\n",
       "  <thead>\n",
       "    <tr style=\"text-align: right;\">\n",
       "      <th></th>\n",
       "      <th>Survived</th>\n",
       "      <th>Pclass</th>\n",
       "      <th>Age</th>\n",
       "      <th>Fare</th>\n",
       "      <th>Embarked_Imputed_Encoded</th>\n",
       "      <th>Cabin_Cat_Encoded</th>\n",
       "      <th>Sex_Encoded</th>\n",
       "      <th>Alone</th>\n",
       "      <th>Title_Encoded</th>\n",
       "    </tr>\n",
       "  </thead>\n",
       "  <tbody>\n",
       "    <tr>\n",
       "      <th>0</th>\n",
       "      <td>0</td>\n",
       "      <td>3</td>\n",
       "      <td>22.0</td>\n",
       "      <td>7.2500</td>\n",
       "      <td>2</td>\n",
       "      <td>8</td>\n",
       "      <td>1</td>\n",
       "      <td>1</td>\n",
       "      <td>2</td>\n",
       "    </tr>\n",
       "    <tr>\n",
       "      <th>1</th>\n",
       "      <td>1</td>\n",
       "      <td>1</td>\n",
       "      <td>38.0</td>\n",
       "      <td>71.2833</td>\n",
       "      <td>0</td>\n",
       "      <td>2</td>\n",
       "      <td>0</td>\n",
       "      <td>1</td>\n",
       "      <td>3</td>\n",
       "    </tr>\n",
       "    <tr>\n",
       "      <th>2</th>\n",
       "      <td>1</td>\n",
       "      <td>3</td>\n",
       "      <td>26.0</td>\n",
       "      <td>7.9250</td>\n",
       "      <td>2</td>\n",
       "      <td>8</td>\n",
       "      <td>0</td>\n",
       "      <td>0</td>\n",
       "      <td>1</td>\n",
       "    </tr>\n",
       "    <tr>\n",
       "      <th>3</th>\n",
       "      <td>1</td>\n",
       "      <td>1</td>\n",
       "      <td>35.0</td>\n",
       "      <td>53.1000</td>\n",
       "      <td>2</td>\n",
       "      <td>2</td>\n",
       "      <td>0</td>\n",
       "      <td>1</td>\n",
       "      <td>3</td>\n",
       "    </tr>\n",
       "    <tr>\n",
       "      <th>4</th>\n",
       "      <td>0</td>\n",
       "      <td>3</td>\n",
       "      <td>35.0</td>\n",
       "      <td>8.0500</td>\n",
       "      <td>2</td>\n",
       "      <td>8</td>\n",
       "      <td>1</td>\n",
       "      <td>0</td>\n",
       "      <td>2</td>\n",
       "    </tr>\n",
       "  </tbody>\n",
       "</table>\n",
       "</div>"
      ],
      "text/plain": [
       "   Survived  Pclass   Age     Fare  Embarked_Imputed_Encoded  \\\n",
       "0         0       3  22.0   7.2500                         2   \n",
       "1         1       1  38.0  71.2833                         0   \n",
       "2         1       3  26.0   7.9250                         2   \n",
       "3         1       1  35.0  53.1000                         2   \n",
       "4         0       3  35.0   8.0500                         2   \n",
       "\n",
       "   Cabin_Cat_Encoded  Sex_Encoded  Alone  Title_Encoded  \n",
       "0                  8            1      1              2  \n",
       "1                  2            0      1              3  \n",
       "2                  8            0      0              1  \n",
       "3                  2            0      1              3  \n",
       "4                  8            1      0              2  "
      ]
     },
     "execution_count": 45,
     "metadata": {},
     "output_type": "execute_result"
    }
   ],
   "source": [
    "cleaned_train = train.drop(['PassengerId', 'Name', 'Sex', 'Ticket', 'Cabin', 'Embarked', 'Embarked_Imputed', 'Cabin_Cat', 'SibSp', 'Parch', 'Title', 'Family_Size'], axis = 'columns')\n",
    "\n",
    "cleaned_train.head()"
   ]
  },
  {
   "cell_type": "markdown",
   "metadata": {},
   "source": [
    "#### Age feature\n",
    "As I said before, *Age* value is missing for 177 observations. In this part, I will use the **KNN algorithm** to predict the missing age for the passengers whose ages are missed. Each missing value will be determined by the nearest passengers.\n",
    "\n",
    "I also use the GridsearchCV method to find the best the **K** for the algorithm to predict the missing value precisely. The possible Ks are recommended to the GridsearchCV method from 2 to 12. Each time this method examines one of them for 8 times and record the accuracy score to find the optimum K among the possible K."
   ]
  },
  {
   "cell_type": "code",
   "execution_count": 46,
   "metadata": {},
   "outputs": [],
   "source": [
    "# Define X and y for train set\n",
    "features = cleaned_train.drop('Survived', axis = 'columns')\n",
    "target = cleaned_train.Survived"
   ]
  },
  {
   "cell_type": "code",
   "execution_count": 47,
   "metadata": {},
   "outputs": [
    {
     "name": "stderr",
     "output_type": "stream",
     "text": [
      "C:\\Users\\mosta\\anaconda3\\lib\\site-packages\\sklearn\\model_selection\\_split.py:670: UserWarning: The least populated class in y has only 1 members, which is less than n_splits=8.\n",
      "  warnings.warn((\"The least populated class in y has only %d\"\n",
      "<ipython-input-47-514a60aa3b7c>:20: SettingWithCopyWarning: \n",
      "A value is trying to be set on a copy of a slice from a DataFrame\n",
      "\n",
      "See the caveats in the documentation: https://pandas.pydata.org/pandas-docs/stable/user_guide/indexing.html#returning-a-view-versus-a-copy\n",
      "  features['Age'][i] = missed_Age_val[j]\n"
     ]
    }
   ],
   "source": [
    "# Predict missing value of Age\n",
    "feature_withoutAge = features.dropna().drop(['Age'], axis='columns')\n",
    "target_Age = features.dropna()['Age'].astype('int')\n",
    "test_toPredict_Age = features[features['Age'].isna()].drop(['Age'], axis='columns')\n",
    "\n",
    "# Grid search cross-validation to find the best number of nabours\n",
    "search_space = {'n_neighbors': [2, 3, 4, 5, 6, 7, 8, 9, 10, 11, 12]}\n",
    "classifier = GridSearchCV(KNeighborsClassifier(),param_grid=search_space, cv=8).fit(feature_withoutAge, target_Age)\n",
    "\n",
    "nn = KNeighborsClassifier(n_neighbors=classifier.best_estimator_.get_params()['n_neighbors'])\n",
    "nn.fit(feature_withoutAge, target_Age)\n",
    "missed_Age_val = nn.predict(test_toPredict_Age)\n",
    "\n",
    "ind_missingValues = features[features['Age'].isna()].index\n",
    "test_toPredict_Age['Age'] = missed_Age_val\n",
    "\n",
    "# Put the predicted Age value to the feature set\n",
    "j=0\n",
    "for i in ind_missingValues:\n",
    "    features['Age'][i] = missed_Age_val[j]\n",
    "    j=j+1\n"
   ]
  },
  {
   "cell_type": "markdown",
   "metadata": {},
   "source": [
    "Now, we will map Age according to AgeBand. In fact, 5 categories will be defined to convert Age feature to categorical."
   ]
  },
  {
   "cell_type": "code",
   "execution_count": 48,
   "metadata": {},
   "outputs": [],
   "source": [
    "features['AgeBand'] = pd.cut(features['Age'], 5)\n",
    "\n",
    "# Map Age according to AgeBand\n",
    "for dataset in [features]:\n",
    "    dataset.loc[dataset['Age'] <= 16, 'Age'] = 0\n",
    "    dataset.loc[(dataset['Age'] > 16) & (dataset['Age'] <= 32), 'Age'] = 1\n",
    "    dataset.loc[(dataset['Age'] > 32) & (dataset['Age'] <= 48), 'Age'] = 2\n",
    "    dataset.loc[(dataset['Age'] > 48) & (dataset['Age'] <= 64), 'Age'] = 3\n",
    "    dataset.loc[ dataset['Age'] > 64, 'Age'] = 4\n",
    "\n",
    "# Drop AgeBound\n",
    "features = features.drop(['AgeBand'], axis = 'columns')"
   ]
  },
  {
   "cell_type": "markdown",
   "metadata": {},
   "source": [
    "#### Fare feature\n",
    "I will replace missing Fare values with the median of Fare."
   ]
  },
  {
   "cell_type": "code",
   "execution_count": 49,
   "metadata": {},
   "outputs": [],
   "source": [
    "for dataset in [features]:\n",
    "    dataset['Fare'] = dataset['Fare'].fillna(train['Fare'].median())"
   ]
  },
  {
   "cell_type": "markdown",
   "metadata": {},
   "source": [
    "Then, I will create FareBand. The Fare will be divided into 4 categories range. After that, I will map Fare according to FareBand"
   ]
  },
  {
   "cell_type": "code",
   "execution_count": 50,
   "metadata": {},
   "outputs": [],
   "source": [
    "features['FareBand'] = pd.qcut(features['Fare'], 4)\n",
    "\n",
    "# Map Fare according to FareBand\n",
    "for dataset in [features]:\n",
    "    dataset.loc[ dataset['Fare'] <= 7.91, 'Fare'] = 0\n",
    "    dataset.loc[(dataset['Fare'] > 7.91) & (dataset['Fare'] <= 14.454), 'Fare'] = 1\n",
    "    dataset.loc[(dataset['Fare'] > 14.454) & (dataset['Fare'] <= 31), 'Fare']   = 2\n",
    "    dataset.loc[ dataset['Fare'] > 31, 'Fare'] = 3\n",
    "    dataset['Fare'] = dataset['Fare'].astype(int)"
   ]
  },
  {
   "cell_type": "code",
   "execution_count": 51,
   "metadata": {},
   "outputs": [],
   "source": [
    "features = features.drop(['FareBand'], axis = 'columns')"
   ]
  },
  {
   "cell_type": "markdown",
   "metadata": {},
   "source": [
    "### 3.2 Feature Selection\n",
    "All data in the train set,which is used in features set, converted to categorical features. From an interpretability standpoint, it is better NOT to standardize categorical features. That way, the meaning of a coefficient is the change in prediction that occurs when a categorical feature changes from a 0 to a 1.\n",
    "\n",
    "I just consider some interaction between some inportant features."
   ]
  },
  {
   "cell_type": "code",
   "execution_count": 52,
   "metadata": {},
   "outputs": [],
   "source": [
    "# some important interactions between features\n",
    "features['Age_Pclass'] = features['Age']*features['Pclass']\n",
    "features['Fare_Cabin'] = features['Fare']*features['Cabin_Cat_Encoded']\n",
    "features['Pcl_Cabin'] = features['Pclass']*features['Cabin_Cat_Encoded']\n",
    "features['Title_Cabin'] = features['Title_Encoded']*features['Cabin_Cat_Encoded']\n",
    "features['Pcl_Embarked'] = features['Pclass']*features['Embarked_Imputed_Encoded']"
   ]
  },
  {
   "cell_type": "markdown",
   "metadata": {},
   "source": [
    "Now, features and target variables are ready to use in the models."
   ]
  },
  {
   "cell_type": "code",
   "execution_count": 53,
   "metadata": {},
   "outputs": [
    {
     "name": "stdout",
     "output_type": "stream",
     "text": [
      "features shape: (891, 13)\n"
     ]
    },
    {
     "data": {
      "text/html": [
       "<div>\n",
       "<style scoped>\n",
       "    .dataframe tbody tr th:only-of-type {\n",
       "        vertical-align: middle;\n",
       "    }\n",
       "\n",
       "    .dataframe tbody tr th {\n",
       "        vertical-align: top;\n",
       "    }\n",
       "\n",
       "    .dataframe thead th {\n",
       "        text-align: right;\n",
       "    }\n",
       "</style>\n",
       "<table border=\"1\" class=\"dataframe\">\n",
       "  <thead>\n",
       "    <tr style=\"text-align: right;\">\n",
       "      <th></th>\n",
       "      <th>Pclass</th>\n",
       "      <th>Age</th>\n",
       "      <th>Fare</th>\n",
       "      <th>Embarked_Imputed_Encoded</th>\n",
       "      <th>Cabin_Cat_Encoded</th>\n",
       "      <th>Sex_Encoded</th>\n",
       "      <th>Alone</th>\n",
       "      <th>Title_Encoded</th>\n",
       "      <th>Age_Pclass</th>\n",
       "      <th>Fare_Cabin</th>\n",
       "      <th>Pcl_Cabin</th>\n",
       "      <th>Title_Cabin</th>\n",
       "      <th>Pcl_Embarked</th>\n",
       "    </tr>\n",
       "  </thead>\n",
       "  <tbody>\n",
       "    <tr>\n",
       "      <th>0</th>\n",
       "      <td>3</td>\n",
       "      <td>1.0</td>\n",
       "      <td>0</td>\n",
       "      <td>2</td>\n",
       "      <td>8</td>\n",
       "      <td>1</td>\n",
       "      <td>1</td>\n",
       "      <td>2</td>\n",
       "      <td>3.0</td>\n",
       "      <td>0</td>\n",
       "      <td>24</td>\n",
       "      <td>16</td>\n",
       "      <td>6</td>\n",
       "    </tr>\n",
       "    <tr>\n",
       "      <th>1</th>\n",
       "      <td>1</td>\n",
       "      <td>2.0</td>\n",
       "      <td>3</td>\n",
       "      <td>0</td>\n",
       "      <td>2</td>\n",
       "      <td>0</td>\n",
       "      <td>1</td>\n",
       "      <td>3</td>\n",
       "      <td>2.0</td>\n",
       "      <td>6</td>\n",
       "      <td>2</td>\n",
       "      <td>6</td>\n",
       "      <td>0</td>\n",
       "    </tr>\n",
       "    <tr>\n",
       "      <th>2</th>\n",
       "      <td>3</td>\n",
       "      <td>1.0</td>\n",
       "      <td>1</td>\n",
       "      <td>2</td>\n",
       "      <td>8</td>\n",
       "      <td>0</td>\n",
       "      <td>0</td>\n",
       "      <td>1</td>\n",
       "      <td>3.0</td>\n",
       "      <td>8</td>\n",
       "      <td>24</td>\n",
       "      <td>8</td>\n",
       "      <td>6</td>\n",
       "    </tr>\n",
       "    <tr>\n",
       "      <th>3</th>\n",
       "      <td>1</td>\n",
       "      <td>2.0</td>\n",
       "      <td>3</td>\n",
       "      <td>2</td>\n",
       "      <td>2</td>\n",
       "      <td>0</td>\n",
       "      <td>1</td>\n",
       "      <td>3</td>\n",
       "      <td>2.0</td>\n",
       "      <td>6</td>\n",
       "      <td>2</td>\n",
       "      <td>6</td>\n",
       "      <td>2</td>\n",
       "    </tr>\n",
       "    <tr>\n",
       "      <th>4</th>\n",
       "      <td>3</td>\n",
       "      <td>2.0</td>\n",
       "      <td>1</td>\n",
       "      <td>2</td>\n",
       "      <td>8</td>\n",
       "      <td>1</td>\n",
       "      <td>0</td>\n",
       "      <td>2</td>\n",
       "      <td>6.0</td>\n",
       "      <td>8</td>\n",
       "      <td>24</td>\n",
       "      <td>16</td>\n",
       "      <td>6</td>\n",
       "    </tr>\n",
       "  </tbody>\n",
       "</table>\n",
       "</div>"
      ],
      "text/plain": [
       "   Pclass  Age  Fare  Embarked_Imputed_Encoded  Cabin_Cat_Encoded  \\\n",
       "0       3  1.0     0                         2                  8   \n",
       "1       1  2.0     3                         0                  2   \n",
       "2       3  1.0     1                         2                  8   \n",
       "3       1  2.0     3                         2                  2   \n",
       "4       3  2.0     1                         2                  8   \n",
       "\n",
       "   Sex_Encoded  Alone  Title_Encoded  Age_Pclass  Fare_Cabin  Pcl_Cabin  \\\n",
       "0            1      1              2         3.0           0         24   \n",
       "1            0      1              3         2.0           6          2   \n",
       "2            0      0              1         3.0           8         24   \n",
       "3            0      1              3         2.0           6          2   \n",
       "4            1      0              2         6.0           8         24   \n",
       "\n",
       "   Title_Cabin  Pcl_Embarked  \n",
       "0           16             6  \n",
       "1            6             0  \n",
       "2            8             6  \n",
       "3            6             2  \n",
       "4           16             6  "
      ]
     },
     "execution_count": 53,
     "metadata": {},
     "output_type": "execute_result"
    }
   ],
   "source": [
    "print(f'features shape: {features.shape}')\n",
    "features.head()"
   ]
  },
  {
   "cell_type": "markdown",
   "metadata": {},
   "source": [
    "## 4. Predictive modelling\n",
    "### 4.1 Predictive Models and Model Evaluation\n",
    "Three classification algorithms are rcommended in this assignment. Other algorithms will be used to find the precise predictive model for the train set:\n",
    "\n",
    "- Naive Bayes (GaussianNB)\n",
    "- Decision Tree\n",
    "- Perceptron (Multi-Layer Perceptron)\n",
    "- Logistic Regression\n",
    "- Random Forest\n",
    "- XGBoost\n",
    "\n",
    "\n",
    "\n",
    "Here's the training procedure:\n",
    "\n",
    "First, I train these classifiers with the training data.\n",
    "\n",
    "Then, I calculate the accuracy score of the trained classifier by means of the k-fold cross-validation.\n",
    "\n",
    "**Please note:** that the accuracy score is generated based on our training dataset. I also use 8-fold for the cross-validation method."
   ]
  },
  {
   "cell_type": "markdown",
   "metadata": {},
   "source": [
    "### Naive Bayes (GaussianNB)\n",
    "[GaussianNB](https://scikit-learn.org/stable/modules/naive_bayes.html#gaussian-naive-bayes) implements the Gaussian Naive Bayes algorithm for classification. The likelihood of the features is assumed to be Gaussian."
   ]
  },
  {
   "cell_type": "code",
   "execution_count": 54,
   "metadata": {},
   "outputs": [],
   "source": [
    "# Naive Bayesian classifier\n",
    "NBG = GaussianNB()\n",
    "NBG_fit = NBG.fit(features, target)"
   ]
  },
  {
   "cell_type": "code",
   "execution_count": 55,
   "metadata": {},
   "outputs": [
    {
     "name": "stdout",
     "output_type": "stream",
     "text": [
      "Cross-Validation Score for GaussianNB: 0.730815637065637\n"
     ]
    }
   ],
   "source": [
    "# Cross-Validation\n",
    "cv_score_NBG = cross_val_score(NBG, features, target, cv=8).mean()\n",
    "print(f'Cross-Validation Score for GaussianNB: {cv_score_NBG}')"
   ]
  },
  {
   "cell_type": "markdown",
   "metadata": {},
   "source": [
    "### Decision Tree Classifier\n",
    "[Decision Tree Classifier](https://scikit-learn.org/stable/modules/generated/sklearn.tree.DecisionTreeClassifier.html?highlight=decision%20tree#sklearn.tree.DecisionTreeClassifier) is a type of Supervised Machine Learning where the data is continuously split according to a certain parameter.\n",
    "\n",
    "I used GridsearchSV method to find the best-tuned parameters for the model."
   ]
  },
  {
   "cell_type": "code",
   "execution_count": 56,
   "metadata": {},
   "outputs": [
    {
     "data": {
      "text/plain": [
       "{'max_depth': 3, 'max_leaf_nodes': 5, 'min_samples_split': 2}"
      ]
     },
     "execution_count": 56,
     "metadata": {},
     "output_type": "execute_result"
    }
   ],
   "source": [
    "# Fine-tune the model by GridsearchCV method\n",
    "\n",
    "# parameters and possible values\n",
    "param_grid = ({\n",
    "    'max_depth': [2, 3, 4],\n",
    "    'max_leaf_nodes': range(2, 9),\n",
    "    'min_samples_split' : [2, 3, 4]\n",
    "})\n",
    "\n",
    "# Gridsearch model on Decision Tree Classifier\n",
    "TreeGrid = GridSearchCV(estimator=DecisionTreeClassifier(), param_grid=param_grid, cv=8)\n",
    "TreeGrid.fit(features, target)\n",
    "\n",
    "# Best parameters\n",
    "TreeGrid.best_params_"
   ]
  },
  {
   "cell_type": "code",
   "execution_count": 57,
   "metadata": {},
   "outputs": [
    {
     "data": {
      "text/plain": [
       "DecisionTreeClassifier(max_depth=3, max_leaf_nodes=5)"
      ]
     },
     "execution_count": 57,
     "metadata": {},
     "output_type": "execute_result"
    }
   ],
   "source": [
    "# Decision Tree Classifier\n",
    "DT = DecisionTreeClassifier(max_depth=3, max_leaf_nodes=5, min_samples_split=2)\n",
    "DT.fit(features, target)"
   ]
  },
  {
   "cell_type": "code",
   "execution_count": 58,
   "metadata": {},
   "outputs": [
    {
     "name": "stdout",
     "output_type": "stream",
     "text": [
      "Cross-Validation Score for DecisionTreeClassifier: 0.8058538449163449\n"
     ]
    }
   ],
   "source": [
    "# Cross-Validation\n",
    "cv_score_DT = cross_val_score(DT, features, target, cv=8).mean()\n",
    "print(f'Cross-Validation Score for DecisionTreeClassifier: {cv_score_DT}')"
   ]
  },
  {
   "cell_type": "markdown",
   "metadata": {},
   "source": [
    "### Multi-Layer Perceptron\n",
    "A [multilayer perceptron (MLP)](https://scikit-learn.org/stable/modules/neural_networks_supervised.html#multi-layer-perceptron) is a class of feedforward artificial neural network. A MLP consists of at least three layers of nodes: an input layer, a hidden layer and an output layer.— MLP Wikipedia\n",
    "\n",
    "Except for the input nodes, each node is a neuron that uses a nonlinear activation function. MLP utilizes a supervised learning technique called backpropagation for training. Its multiple layers and non-linear activation distinguish MLP from a linear perceptron. It can distinguish data that is not linearly separable.\n",
    "#### by scikit-learn"
   ]
  },
  {
   "cell_type": "code",
   "execution_count": 59,
   "metadata": {},
   "outputs": [
    {
     "name": "stderr",
     "output_type": "stream",
     "text": [
      "C:\\Users\\mosta\\anaconda3\\lib\\site-packages\\sklearn\\neural_network\\_multilayer_perceptron.py:582: ConvergenceWarning: Stochastic Optimizer: Maximum iterations (100) reached and the optimization hasn't converged yet.\n",
      "  warnings.warn(\n"
     ]
    },
    {
     "data": {
      "text/plain": [
       "{'activation': 'logistic',\n",
       " 'hidden_layer_sizes': (100, 100),\n",
       " 'max_iter': 100,\n",
       " 'solver': 'adam'}"
      ]
     },
     "execution_count": 59,
     "metadata": {},
     "output_type": "execute_result"
    }
   ],
   "source": [
    "# Fine-tune the model by GridsearchCV method\n",
    "\n",
    "# parameters and possible values\n",
    "param_grid = ({\n",
    "    'hidden_layer_sizes': [(50,), (50,50,), (100,), (100,100,)],\n",
    "    'activation': ['logistic', 'tanh', 'relu'],\n",
    "    'solver' : ['lbfgs', 'sgd', 'adam'],\n",
    "    'max_iter' : [100, 200, 300]\n",
    "})\n",
    "\n",
    "# Gridsearch model on multi-layer perceptron Classifier\n",
    "MLPGrid = GridSearchCV(estimator=MLPClassifier(), param_grid=param_grid, cv=8, n_jobs = -1)\n",
    "MLPGrid.fit(features, target)\n",
    "\n",
    "# Best parameters\n",
    "MLPGrid.best_params_"
   ]
  },
  {
   "cell_type": "code",
   "execution_count": 60,
   "metadata": {},
   "outputs": [
    {
     "name": "stderr",
     "output_type": "stream",
     "text": [
      "C:\\Users\\mosta\\anaconda3\\lib\\site-packages\\sklearn\\neural_network\\_multilayer_perceptron.py:582: ConvergenceWarning: Stochastic Optimizer: Maximum iterations (100) reached and the optimization hasn't converged yet.\n",
      "  warnings.warn(\n"
     ]
    },
    {
     "data": {
      "text/plain": [
       "MLPClassifier(activation='logistic', hidden_layer_sizes=(100, 100),\n",
       "              max_iter=100)"
      ]
     },
     "execution_count": 60,
     "metadata": {},
     "output_type": "execute_result"
    }
   ],
   "source": [
    "# MLP Classifier\n",
    "mlpc = MLPClassifier(hidden_layer_sizes = MLPGrid.best_params_['hidden_layer_sizes'],\n",
    "                     activation = MLPGrid.best_params_['activation'],\n",
    "                     solver = MLPGrid.best_params_['solver'],\n",
    "                     max_iter = MLPGrid.best_params_['max_iter'])\n",
    "mlpc.fit(features, target)"
   ]
  },
  {
   "cell_type": "code",
   "execution_count": 61,
   "metadata": {},
   "outputs": [
    {
     "name": "stderr",
     "output_type": "stream",
     "text": [
      "C:\\Users\\mosta\\anaconda3\\lib\\site-packages\\sklearn\\neural_network\\_multilayer_perceptron.py:582: ConvergenceWarning: Stochastic Optimizer: Maximum iterations (100) reached and the optimization hasn't converged yet.\n",
      "  warnings.warn(\n",
      "C:\\Users\\mosta\\anaconda3\\lib\\site-packages\\sklearn\\neural_network\\_multilayer_perceptron.py:582: ConvergenceWarning: Stochastic Optimizer: Maximum iterations (100) reached and the optimization hasn't converged yet.\n",
      "  warnings.warn(\n",
      "C:\\Users\\mosta\\anaconda3\\lib\\site-packages\\sklearn\\neural_network\\_multilayer_perceptron.py:582: ConvergenceWarning: Stochastic Optimizer: Maximum iterations (100) reached and the optimization hasn't converged yet.\n",
      "  warnings.warn(\n",
      "C:\\Users\\mosta\\anaconda3\\lib\\site-packages\\sklearn\\neural_network\\_multilayer_perceptron.py:582: ConvergenceWarning: Stochastic Optimizer: Maximum iterations (100) reached and the optimization hasn't converged yet.\n",
      "  warnings.warn(\n",
      "C:\\Users\\mosta\\anaconda3\\lib\\site-packages\\sklearn\\neural_network\\_multilayer_perceptron.py:582: ConvergenceWarning: Stochastic Optimizer: Maximum iterations (100) reached and the optimization hasn't converged yet.\n",
      "  warnings.warn(\n",
      "C:\\Users\\mosta\\anaconda3\\lib\\site-packages\\sklearn\\neural_network\\_multilayer_perceptron.py:582: ConvergenceWarning: Stochastic Optimizer: Maximum iterations (100) reached and the optimization hasn't converged yet.\n",
      "  warnings.warn(\n",
      "C:\\Users\\mosta\\anaconda3\\lib\\site-packages\\sklearn\\neural_network\\_multilayer_perceptron.py:582: ConvergenceWarning: Stochastic Optimizer: Maximum iterations (100) reached and the optimization hasn't converged yet.\n",
      "  warnings.warn(\n"
     ]
    },
    {
     "name": "stdout",
     "output_type": "stream",
     "text": [
      "Cross-Validation Score for MLPClassifier: 0.81598898005148\n"
     ]
    },
    {
     "name": "stderr",
     "output_type": "stream",
     "text": [
      "C:\\Users\\mosta\\anaconda3\\lib\\site-packages\\sklearn\\neural_network\\_multilayer_perceptron.py:582: ConvergenceWarning: Stochastic Optimizer: Maximum iterations (100) reached and the optimization hasn't converged yet.\n",
      "  warnings.warn(\n"
     ]
    }
   ],
   "source": [
    "# Cross-Validation\n",
    "cv_score_mlp = cross_val_score(mlpc, features, target, cv=8).mean()\n",
    "print(f'Cross-Validation Score for MLPClassifier: {cv_score_mlp}')"
   ]
  },
  {
   "cell_type": "markdown",
   "metadata": {},
   "source": [
    "#### by Keras\n",
    "I decide to define wight regularization for the network. It allows me to apply penalties on layer parameters or layer activity during optimization and prevent overfitting. These penalties are summed into the loss function that the network optimizes."
   ]
  },
  {
   "cell_type": "code",
   "execution_count": 62,
   "metadata": {},
   "outputs": [
    {
     "name": "stdout",
     "output_type": "stream",
     "text": [
      "Epoch 1/20\n",
      "5/5 [==============================] - 0s 1ms/step - loss: 12.0367 - accuracy: 0.6105\n",
      "Epoch 2/20\n",
      "5/5 [==============================] - 0s 997us/step - loss: 11.3966 - accuracy: 0.6835\n",
      "Epoch 3/20\n",
      "5/5 [==============================] - 0s 798us/step - loss: 10.8763 - accuracy: 0.6801\n",
      "Epoch 4/20\n",
      "5/5 [==============================] - 0s 798us/step - loss: 10.3415 - accuracy: 0.6880\n",
      "Epoch 5/20\n",
      "5/5 [==============================] - 0s 997us/step - loss: 9.8278 - accuracy: 0.6981\n",
      "Epoch 6/20\n",
      "5/5 [==============================] - 0s 997us/step - loss: 9.3320 - accuracy: 0.6992\n",
      "Epoch 7/20\n",
      "5/5 [==============================] - 0s 997us/step - loss: 8.8560 - accuracy: 0.7037\n",
      "Epoch 8/20\n",
      "5/5 [==============================] - 0s 997us/step - loss: 8.3979 - accuracy: 0.6958\n",
      "Epoch 9/20\n",
      "5/5 [==============================] - 0s 798us/step - loss: 7.9463 - accuracy: 0.7149\n",
      "Epoch 10/20\n",
      "5/5 [==============================] - 0s 997us/step - loss: 7.5137 - accuracy: 0.7138\n",
      "Epoch 11/20\n",
      "5/5 [==============================] - 0s 997us/step - loss: 7.1034 - accuracy: 0.7071\n",
      "Epoch 12/20\n",
      "5/5 [==============================] - 0s 997us/step - loss: 6.7044 - accuracy: 0.7127\n",
      "Epoch 13/20\n",
      "5/5 [==============================] - 0s 798us/step - loss: 6.3194 - accuracy: 0.7059\n",
      "Epoch 14/20\n",
      "5/5 [==============================] - 0s 798us/step - loss: 5.9532 - accuracy: 0.7205\n",
      "Epoch 15/20\n",
      "5/5 [==============================] - 0s 997us/step - loss: 5.6035 - accuracy: 0.6958\n",
      "Epoch 16/20\n",
      "5/5 [==============================] - 0s 997us/step - loss: 5.2679 - accuracy: 0.7217\n",
      "Epoch 17/20\n",
      "5/5 [==============================] - 0s 798us/step - loss: 4.9435 - accuracy: 0.6925\n",
      "Epoch 18/20\n",
      "5/5 [==============================] - 0s 997us/step - loss: 4.6350 - accuracy: 0.7048\n",
      "Epoch 19/20\n",
      "5/5 [==============================] - 0s 998us/step - loss: 4.3425 - accuracy: 0.7026\n",
      "Epoch 20/20\n",
      "5/5 [==============================] - 0s 997us/step - loss: 4.0664 - accuracy: 0.6970\n"
     ]
    },
    {
     "data": {
      "text/plain": [
       "GridSearchCV(cv=8,\n",
       "             estimator=<tensorflow.python.keras.wrappers.scikit_learn.KerasClassifier object at 0x000002A5BCE85E50>,\n",
       "             n_jobs=-1,\n",
       "             param_grid=[{'batch_size': [100, 150, 200],\n",
       "                          'epochs': [10, 12, 15, 20],\n",
       "                          'optimizer': ['rmsprop', 'adam', 'adamax', 'nadam']}])"
      ]
     },
     "execution_count": 62,
     "metadata": {},
     "output_type": "execute_result"
    }
   ],
   "source": [
    "# Fine-tune the model by GridsearchCV method\n",
    "\n",
    "# define a Network by Keras\n",
    "def create_network(optimizer):\n",
    "    # Layer weight regularizers\n",
    "    kernel_regularizer = regularizers.l1(0.01) # L1 regularization penalty\n",
    "    kernel_regularizer = regularizers.l2(0.01) # L2 regularization penalty\n",
    "    kernel_regularizer = regularizers.l1_l2(l1 = 0.01, l2 = 0.01) #  both L1 and L2 penalties\n",
    "    \n",
    "    Network = models.Sequential()\n",
    "    Network.add(layers.Dense(units=100, activation='relu', kernel_regularizer = kernel_regularizer, input_shape=(13,)))\n",
    "    Network.add(layers.Dense(units=100, activation='relu', kernel_regularizer = kernel_regularizer))\n",
    "    Network.add(layers.Dense(units=1 , activation='sigmoid'))\n",
    "    Network.compile(optimizer = optimizer, loss='binary_crossentropy', metrics=['accuracy'])\n",
    "    return Network\n",
    "\n",
    "ANN = KerasClassifier(build_fn = create_network)\n",
    "\n",
    "\n",
    "# parameters and possible values\n",
    "param_grid = [{\n",
    "    'epochs' : [10, 12, 15, 20],\n",
    "    'optimizer' : ['rmsprop','adam', 'adamax', 'nadam'],\n",
    "    'batch_size' : [100, 150, 200],\n",
    "}]\n",
    "\n",
    "# Gridsearch model on MLP Classifier\n",
    "MLPKGrid = GridSearchCV(estimator = ANN, param_grid = param_grid, cv=8, n_jobs=-1)\n",
    "MLPKGrid.fit(features, target)"
   ]
  },
  {
   "cell_type": "code",
   "execution_count": 63,
   "metadata": {},
   "outputs": [
    {
     "data": {
      "text/plain": [
       "{'batch_size': 200, 'epochs': 20, 'optimizer': 'adam'}"
      ]
     },
     "execution_count": 63,
     "metadata": {},
     "output_type": "execute_result"
    }
   ],
   "source": [
    "# best parameters\n",
    "MLPKGrid.best_params_"
   ]
  },
  {
   "cell_type": "code",
   "execution_count": 64,
   "metadata": {},
   "outputs": [
    {
     "name": "stdout",
     "output_type": "stream",
     "text": [
      "Epoch 1/20\n",
      "5/5 [==============================] - 0s 998us/step - loss: 11.9094 - accuracy: 0.5679\n",
      "Epoch 2/20\n",
      "5/5 [==============================] - 0s 798us/step - loss: 11.3179 - accuracy: 0.6274\n",
      "Epoch 3/20\n",
      "5/5 [==============================] - 0s 798us/step - loss: 10.7764 - accuracy: 0.6756\n",
      "Epoch 4/20\n",
      "5/5 [==============================] - 0s 798us/step - loss: 10.2423 - accuracy: 0.6813\n",
      "Epoch 5/20\n",
      "5/5 [==============================] - 0s 599us/step - loss: 9.7384 - accuracy: 0.6891\n",
      "Epoch 6/20\n",
      "5/5 [==============================] - 0s 798us/step - loss: 9.2470 - accuracy: 0.7048\n",
      "Epoch 7/20\n",
      "5/5 [==============================] - 0s 798us/step - loss: 8.7641 - accuracy: 0.6958\n",
      "Epoch 8/20\n",
      "5/5 [==============================] - 0s 798us/step - loss: 8.2969 - accuracy: 0.6958\n",
      "Epoch 9/20\n",
      "5/5 [==============================] - 0s 798us/step - loss: 7.8628 - accuracy: 0.7284\n",
      "Epoch 10/20\n",
      "5/5 [==============================] - 0s 798us/step - loss: 7.4354 - accuracy: 0.6958\n",
      "Epoch 11/20\n",
      "5/5 [==============================] - 0s 997us/step - loss: 7.0143 - accuracy: 0.7127\n",
      "Epoch 12/20\n",
      "5/5 [==============================] - 0s 997us/step - loss: 6.6239 - accuracy: 0.7273\n",
      "Epoch 13/20\n",
      "5/5 [==============================] - 0s 798us/step - loss: 6.2466 - accuracy: 0.7003\n",
      "Epoch 14/20\n",
      "5/5 [==============================] - 0s 998us/step - loss: 5.8914 - accuracy: 0.7306\n",
      "Epoch 15/20\n",
      "5/5 [==============================] - 0s 798us/step - loss: 5.5403 - accuracy: 0.7048\n",
      "Epoch 16/20\n",
      "5/5 [==============================] - 0s 798us/step - loss: 5.2062 - accuracy: 0.7194\n",
      "Epoch 17/20\n",
      "5/5 [==============================] - 0s 798us/step - loss: 4.8906 - accuracy: 0.7250\n",
      "Epoch 18/20\n",
      "5/5 [==============================] - 0s 997us/step - loss: 4.5875 - accuracy: 0.7093\n",
      "Epoch 19/20\n",
      "5/5 [==============================] - 0s 997us/step - loss: 4.3035 - accuracy: 0.7475\n",
      "Epoch 20/20\n",
      "5/5 [==============================] - 0s 997us/step - loss: 4.0318 - accuracy: 0.7048\n"
     ]
    },
    {
     "data": {
      "text/plain": [
       "<tensorflow.python.keras.callbacks.History at 0x2a5c0c3b6a0>"
      ]
     },
     "execution_count": 64,
     "metadata": {},
     "output_type": "execute_result"
    }
   ],
   "source": [
    "# Weight regularization to avoid \"Overfitting\"\n",
    "kernel_regularizer = regularizers.l1(0.01)\n",
    "kernel_regularizer = regularizers.l2(0.01)\n",
    "kernel_regularizer = regularizers.l1_l2(l1 = 0.01, l2 = 0.01)\n",
    "\n",
    "# Define a network\n",
    "Network = models.Sequential()\n",
    "Network.add(layers.Dense(units=100, activation='relu',  kernel_regularizer = kernel_regularizer, input_shape=(features.shape[1],)))\n",
    "Network.add(layers.Dense(units=100, activation='relu',  kernel_regularizer = kernel_regularizer))\n",
    "Network.add(layers.Dense(units=1 , activation='sigmoid'))\n",
    "Network.compile(optimizer = MLPKGrid.best_params_['optimizer'], loss='binary_crossentropy', metrics=['accuracy'])\n",
    "Network.fit(features, target, batch_size=MLPKGrid.best_params_['batch_size'], epochs=MLPKGrid.best_params_['epochs'])"
   ]
  },
  {
   "cell_type": "markdown",
   "metadata": {},
   "source": [
    "As we can see from the summary, this net is constructed by 101 parameters in the first layer, 10100 parameters in the second layer, and 1400 parameters in the third layer. In total, 11,601 parameters are involved in it."
   ]
  },
  {
   "cell_type": "code",
   "execution_count": 65,
   "metadata": {},
   "outputs": [
    {
     "name": "stdout",
     "output_type": "stream",
     "text": [
      "Model: \"sequential_1\"\n",
      "_________________________________________________________________\n",
      "Layer (type)                 Output Shape              Param #   \n",
      "=================================================================\n",
      "dense_3 (Dense)              (None, 100)               1400      \n",
      "_________________________________________________________________\n",
      "dense_4 (Dense)              (None, 100)               10100     \n",
      "_________________________________________________________________\n",
      "dense_5 (Dense)              (None, 1)                 101       \n",
      "=================================================================\n",
      "Total params: 11,601\n",
      "Trainable params: 11,601\n",
      "Non-trainable params: 0\n",
      "_________________________________________________________________\n"
     ]
    }
   ],
   "source": [
    "Network.summary()"
   ]
  },
  {
   "cell_type": "markdown",
   "metadata": {},
   "source": [
    "Accuracy of the model is as follows:"
   ]
  },
  {
   "cell_type": "code",
   "execution_count": 66,
   "metadata": {},
   "outputs": [
    {
     "name": "stdout",
     "output_type": "stream",
     "text": [
      "Accuracy score for the model: 0.7048260569572449\n"
     ]
    }
   ],
   "source": [
    "mlp_k = Network.history.history['accuracy'][MLPKGrid.best_params_['epochs']-1]\n",
    "print(f'Accuracy score for the model: {mlp_k}')"
   ]
  },
  {
   "cell_type": "markdown",
   "metadata": {},
   "source": [
    "### Logistic Regression\n",
    "[Logistic regression](https://en.wikipedia.org/wiki/Logistic_regression#cite_note-1) is a statistical model that in its basic form uses a logistic function to model a binary dependent variable. Logistic regression is estimating the parameters of a logistic model (a form of binary regression).\n",
    "\n",
    "In this algorithm, max_iter is a parameters which is defined as the maximum number of iterations taken for the solvers to converge. I will set the max_iter parameter to 1000 because if I put the default value for it, it may not be converaged.\n",
    "\n",
    "In addition, the default penalty for this algorithm is l2. In this case, if I remove the penalty, the result would be the same."
   ]
  },
  {
   "cell_type": "code",
   "execution_count": 67,
   "metadata": {},
   "outputs": [
    {
     "data": {
      "text/plain": [
       "LogisticRegression(max_iter=1000, penalty='none')"
      ]
     },
     "execution_count": 67,
     "metadata": {},
     "output_type": "execute_result"
    }
   ],
   "source": [
    "lgreg = LogisticRegression(penalty='none', max_iter=1000)\n",
    "lgreg.fit(features, target)"
   ]
  },
  {
   "cell_type": "code",
   "execution_count": 68,
   "metadata": {},
   "outputs": [
    {
     "name": "stdout",
     "output_type": "stream",
     "text": [
      "Cross-Validation Score for Logistic Regression Classifier: 0.7800032175032174\n"
     ]
    }
   ],
   "source": [
    "# Cross-Validation\n",
    "cv_score_lgreg = cross_val_score(lgreg, features, target, cv=8).mean()\n",
    "print(f'Cross-Validation Score for Logistic Regression Classifier: {cv_score_lgreg}')"
   ]
  },
  {
   "cell_type": "markdown",
   "metadata": {},
   "source": [
    "### Bootstrap Aggregating or Bagging\n",
    "Bootstrap aggregating, also called [Bagging](https://en.wikipedia.org/wiki/Bootstrap_aggregating) is a technique of building many decision trees at a time by randomly sampling with replacement, or bootstrapping, from the original dataset. This ensures variety in the trees, which helps to reduce variance and to avoid overfitting.\n",
    "\n",
    "I will create this algorithm based on the Decision Trees with the same parametes that was created previously."
   ]
  },
  {
   "cell_type": "code",
   "execution_count": 69,
   "metadata": {},
   "outputs": [
    {
     "data": {
      "text/plain": [
       "BaggingClassifier(base_estimator=DecisionTreeClassifier(max_depth=3,\n",
       "                                                        max_leaf_nodes=5),\n",
       "                  n_estimators=100)"
      ]
     },
     "execution_count": 69,
     "metadata": {},
     "output_type": "execute_result"
    }
   ],
   "source": [
    "bag = BaggingClassifier(DT, n_estimators=100)\n",
    "bag.fit(features, target)"
   ]
  },
  {
   "cell_type": "code",
   "execution_count": 70,
   "metadata": {},
   "outputs": [
    {
     "name": "stdout",
     "output_type": "stream",
     "text": [
      "Cross-Validation Score for Bagging Classifier: 0.8014096685971686\n"
     ]
    }
   ],
   "source": [
    "# Cross-Validation\n",
    "cv_score_bag = cross_val_score(bag, features, target, cv=8).mean()\n",
    "print(f'Cross-Validation Score for Bagging Classifier: {cv_score_bag}')"
   ]
  },
  {
   "cell_type": "markdown",
   "metadata": {},
   "source": [
    "### Random Forest\n",
    "The [Random Forest](https://scikit-learn.org/stable/modules/generated/sklearn.ensemble.RandomForestClassifier.html) is an ensemble learning method consisting of many decisions trees. It uses bagging and feature randomness when building each individual tree to try to create an uncorrelated forest of trees whose prediction by committee is more accurate than that of any individual tree."
   ]
  },
  {
   "cell_type": "code",
   "execution_count": 71,
   "metadata": {},
   "outputs": [
    {
     "data": {
      "text/plain": [
       "RandomForestClassifier()"
      ]
     },
     "execution_count": 71,
     "metadata": {},
     "output_type": "execute_result"
    }
   ],
   "source": [
    "rfc = RandomForestClassifier()\n",
    "rfc.fit(features, target)"
   ]
  },
  {
   "cell_type": "code",
   "execution_count": 72,
   "metadata": {},
   "outputs": [
    {
     "name": "stdout",
     "output_type": "stream",
     "text": [
      "Cross-Validation Score for Random Forest Classifier: 0.8048282657657657\n"
     ]
    }
   ],
   "source": [
    "# Cross-Validation\n",
    "cv_score_rfc = cross_val_score(rfc, features, target, cv=8).mean()\n",
    "print(f'Cross-Validation Score for Random Forest Classifier: {cv_score_rfc}')"
   ]
  },
  {
   "cell_type": "markdown",
   "metadata": {},
   "source": [
    "### XGBoost\n",
    "**Boosting** is a sequential technique which works on the principle of an ensemble. It combines a set of weak learners and delivers improved prediction accuracy.\n",
    "\n",
    "[***XGBoost*** (Extreme Gradient Boosting)](https://en.wikipedia.org/wiki/XGBoost) belongs to a family of boosting algorithms and uses the gradient boosting (GBM) framework at its core. It is an optimized distributed gradient boosting."
   ]
  },
  {
   "cell_type": "code",
   "execution_count": 73,
   "metadata": {},
   "outputs": [
    {
     "data": {
      "text/plain": [
       "{'colsample_bytree': 0.7,\n",
       " 'learning_rate': 0.1,\n",
       " 'max_depth': 2,\n",
       " 'n_estimators': 100,\n",
       " 'subsample': 0.8}"
      ]
     },
     "execution_count": 73,
     "metadata": {},
     "output_type": "execute_result"
    }
   ],
   "source": [
    "# Fine-tune the model by GridsearchCV method\n",
    "\n",
    "# parameters and possible values\n",
    "param_grid = ({\n",
    "    'colsample_bytree': [0.6, 0.7, 0.8],\n",
    "    'learning_rate': [0.01, 0.1, 0.2],\n",
    "    'max_depth' : [2, 3, 4],\n",
    "    'n_estimators' : [50, 100, 150],\n",
    "    'subsample' : [0.6, 0.8]\n",
    "})\n",
    "\n",
    "# Gridsearch model on Decision Tree Classifier\n",
    "XGBGrid = GridSearchCV(estimator=XGBClassifier(), param_grid=param_grid, cv=8, n_jobs=-1)\n",
    "XGBGrid.fit(features, target)\n",
    "\n",
    "# Best parameters\n",
    "XGBGrid.best_params_"
   ]
  },
  {
   "cell_type": "code",
   "execution_count": 74,
   "metadata": {},
   "outputs": [
    {
     "data": {
      "text/plain": [
       "XGBClassifier(base_score=0.5, booster='gbtree', colsample_bylevel=1,\n",
       "              colsample_bynode=1, colsample_bytree=0.7, gamma=0, gpu_id=-1,\n",
       "              importance_type='gain', interaction_constraints='',\n",
       "              learning_rate=0.1, max_delta_step=0, max_depth=2,\n",
       "              min_child_weight=1, missing=nan, monotone_constraints='()',\n",
       "              n_estimators=100, n_jobs=0, num_parallel_tree=1, random_state=0,\n",
       "              reg_alpha=0, reg_lambda=1, scale_pos_weight=1, subsample=0.8,\n",
       "              tree_method='exact', validate_parameters=1, verbosity=None)"
      ]
     },
     "execution_count": 74,
     "metadata": {},
     "output_type": "execute_result"
    }
   ],
   "source": [
    "xgbc = XGBClassifier(colsample_bytree = XGBGrid.best_params_['colsample_bytree'],\n",
    "                     learning_rate = XGBGrid.best_params_['learning_rate'],\n",
    "                     max_depth = XGBGrid.best_params_['max_depth'],\n",
    "                     n_estimators = XGBGrid.best_params_['n_estimators'],\n",
    "                     subsample = XGBGrid.best_params_['subsample'])\n",
    "xgbc.fit(features, target)"
   ]
  },
  {
   "cell_type": "code",
   "execution_count": 75,
   "metadata": {},
   "outputs": [
    {
     "name": "stdout",
     "output_type": "stream",
     "text": [
      "Cross-Validation Score for XGBClassifier: 0.8305984555984556\n"
     ]
    }
   ],
   "source": [
    "# Cross-Validation\n",
    "cv_score_xgb = cross_val_score(xgbc, features, target, cv=8).mean()\n",
    "print(f'Cross-Validation Score for XGBClassifier: {cv_score_xgb}')"
   ]
  },
  {
   "cell_type": "markdown",
   "metadata": {},
   "source": [
    "The bar chart shows the important features in XGBoost model. As we can see, interaction between some features are playing an important role in the model."
   ]
  },
  {
   "cell_type": "code",
   "execution_count": 76,
   "metadata": {},
   "outputs": [
    {
     "data": {
      "text/plain": [
       "<matplotlib.axes._subplots.AxesSubplot at 0x2a5bcf38bb0>"
      ]
     },
     "execution_count": 76,
     "metadata": {},
     "output_type": "execute_result"
    },
    {
     "data": {
      "image/png": "[encoded data removed]",
      "text/plain": [
       "<Figure size 720x720 with 1 Axes>"
      ]
     },
     "metadata": {
      "needs_background": "light"
     },
     "output_type": "display_data"
    }
   ],
   "source": [
    "# importance features\n",
    "fig,ax = plt.subplots(figsize=(10,10))\n",
    "xgb.plot_importance(xgbc, ax=ax, height=0.8)"
   ]
  },
  {
   "cell_type": "markdown",
   "metadata": {},
   "source": [
    "### 4.2 Model selection, based on the accuracy\n",
    "I will compare the accuracy score of all the classifier models used above to determine the best model for the competition"
   ]
  },
  {
   "cell_type": "code",
   "execution_count": 77,
   "metadata": {},
   "outputs": [
    {
     "data": {
      "text/html": [
       "<div>\n",
       "<style scoped>\n",
       "    .dataframe tbody tr th:only-of-type {\n",
       "        vertical-align: middle;\n",
       "    }\n",
       "\n",
       "    .dataframe tbody tr th {\n",
       "        vertical-align: top;\n",
       "    }\n",
       "\n",
       "    .dataframe thead th {\n",
       "        text-align: right;\n",
       "    }\n",
       "</style>\n",
       "<table border=\"1\" class=\"dataframe\">\n",
       "  <thead>\n",
       "    <tr style=\"text-align: right;\">\n",
       "      <th></th>\n",
       "      <th>Model</th>\n",
       "      <th>Score</th>\n",
       "    </tr>\n",
       "  </thead>\n",
       "  <tbody>\n",
       "    <tr>\n",
       "      <th>0</th>\n",
       "      <td>XGBoost</td>\n",
       "      <td>0.830598</td>\n",
       "    </tr>\n",
       "    <tr>\n",
       "      <th>1</th>\n",
       "      <td>Perceptron by Scikit-Learn</td>\n",
       "      <td>0.815989</td>\n",
       "    </tr>\n",
       "    <tr>\n",
       "      <th>2</th>\n",
       "      <td>Decision Tree</td>\n",
       "      <td>0.805854</td>\n",
       "    </tr>\n",
       "    <tr>\n",
       "      <th>3</th>\n",
       "      <td>Random Forest</td>\n",
       "      <td>0.804828</td>\n",
       "    </tr>\n",
       "    <tr>\n",
       "      <th>4</th>\n",
       "      <td>Bagging</td>\n",
       "      <td>0.801410</td>\n",
       "    </tr>\n",
       "    <tr>\n",
       "      <th>5</th>\n",
       "      <td>Logistic Regression</td>\n",
       "      <td>0.780003</td>\n",
       "    </tr>\n",
       "    <tr>\n",
       "      <th>6</th>\n",
       "      <td>Naive Bayes</td>\n",
       "      <td>0.730816</td>\n",
       "    </tr>\n",
       "    <tr>\n",
       "      <th>7</th>\n",
       "      <td>Perceptron by Keras</td>\n",
       "      <td>0.704826</td>\n",
       "    </tr>\n",
       "  </tbody>\n",
       "</table>\n",
       "</div>"
      ],
      "text/plain": [
       "                        Model     Score\n",
       "0                     XGBoost  0.830598\n",
       "1  Perceptron by Scikit-Learn  0.815989\n",
       "2               Decision Tree  0.805854\n",
       "3               Random Forest  0.804828\n",
       "4                     Bagging  0.801410\n",
       "5         Logistic Regression  0.780003\n",
       "6                 Naive Bayes  0.730816\n",
       "7         Perceptron by Keras  0.704826"
      ]
     },
     "execution_count": 77,
     "metadata": {},
     "output_type": "execute_result"
    }
   ],
   "source": [
    "predictive_models = pd.DataFrame({\n",
    "    'Model': ['Naive Bayes', 'Decision Tree', 'Perceptron by Scikit-Learn',\n",
    "              'Perceptron by Keras', 'Logistic Regression', 'Bagging', 'Random Forest', 'XGBoost'],\n",
    "    \n",
    "    'Score': [cv_score_NBG, cv_score_DT, cv_score_mlp,\n",
    "             mlp_k, cv_score_lgreg, cv_score_bag, cv_score_rfc, cv_score_xgb]\n",
    "    })\n",
    "\n",
    "predictive_models.sort_values(by='Score', ascending=False).reset_index(drop=True)"
   ]
  },
  {
   "cell_type": "markdown",
   "metadata": {},
   "source": [
    "From the above table, I created 8 models and estimate the general error for each one. As I see, trees-based models are fitted well with the train data. we can see that XGBoost has the highest accuracy score.\n",
    "\n",
    "So, I choose XGBoost classifier as it has the ability to limit overfitting as well.\n",
    "\n",
    "In addition, MLP by Keras woud not be good for this dataset because it can work perfectly on the large datasets."
   ]
  },
  {
   "cell_type": "markdown",
   "metadata": {},
   "source": [
    "## 5. Get the test set (Preparation)"
   ]
  },
  {
   "cell_type": "markdown",
   "metadata": {},
   "source": [
    "In this part, I will manipulate the test set and prepare it for the prediction."
   ]
  },
  {
   "cell_type": "code",
   "execution_count": 78,
   "metadata": {},
   "outputs": [
    {
     "data": {
      "text/html": [
       "<div>\n",
       "<style scoped>\n",
       "    .dataframe tbody tr th:only-of-type {\n",
       "        vertical-align: middle;\n",
       "    }\n",
       "\n",
       "    .dataframe tbody tr th {\n",
       "        vertical-align: top;\n",
       "    }\n",
       "\n",
       "    .dataframe thead th {\n",
       "        text-align: right;\n",
       "    }\n",
       "</style>\n",
       "<table border=\"1\" class=\"dataframe\">\n",
       "  <thead>\n",
       "    <tr style=\"text-align: right;\">\n",
       "      <th></th>\n",
       "      <th>Pclass</th>\n",
       "      <th>Name</th>\n",
       "      <th>Sex</th>\n",
       "      <th>Age</th>\n",
       "      <th>SibSp</th>\n",
       "      <th>Parch</th>\n",
       "      <th>Ticket</th>\n",
       "      <th>Fare</th>\n",
       "      <th>Cabin</th>\n",
       "      <th>Embarked</th>\n",
       "      <th>Title</th>\n",
       "    </tr>\n",
       "    <tr>\n",
       "      <th>PassengerId</th>\n",
       "      <th></th>\n",
       "      <th></th>\n",
       "      <th></th>\n",
       "      <th></th>\n",
       "      <th></th>\n",
       "      <th></th>\n",
       "      <th></th>\n",
       "      <th></th>\n",
       "      <th></th>\n",
       "      <th></th>\n",
       "      <th></th>\n",
       "    </tr>\n",
       "  </thead>\n",
       "  <tbody>\n",
       "    <tr>\n",
       "      <th>892</th>\n",
       "      <td>3</td>\n",
       "      <td>Kelly, Mr. James</td>\n",
       "      <td>male</td>\n",
       "      <td>34.5</td>\n",
       "      <td>0</td>\n",
       "      <td>0</td>\n",
       "      <td>330911</td>\n",
       "      <td>7.8292</td>\n",
       "      <td>NaN</td>\n",
       "      <td>Q</td>\n",
       "      <td>Mr</td>\n",
       "    </tr>\n",
       "    <tr>\n",
       "      <th>893</th>\n",
       "      <td>3</td>\n",
       "      <td>Wilkes, Mrs. James (Ellen Needs)</td>\n",
       "      <td>female</td>\n",
       "      <td>47.0</td>\n",
       "      <td>1</td>\n",
       "      <td>0</td>\n",
       "      <td>363272</td>\n",
       "      <td>7.0000</td>\n",
       "      <td>NaN</td>\n",
       "      <td>S</td>\n",
       "      <td>Mrs</td>\n",
       "    </tr>\n",
       "    <tr>\n",
       "      <th>894</th>\n",
       "      <td>2</td>\n",
       "      <td>Myles, Mr. Thomas Francis</td>\n",
       "      <td>male</td>\n",
       "      <td>62.0</td>\n",
       "      <td>0</td>\n",
       "      <td>0</td>\n",
       "      <td>240276</td>\n",
       "      <td>9.6875</td>\n",
       "      <td>NaN</td>\n",
       "      <td>Q</td>\n",
       "      <td>Mr</td>\n",
       "    </tr>\n",
       "    <tr>\n",
       "      <th>895</th>\n",
       "      <td>3</td>\n",
       "      <td>Wirz, Mr. Albert</td>\n",
       "      <td>male</td>\n",
       "      <td>27.0</td>\n",
       "      <td>0</td>\n",
       "      <td>0</td>\n",
       "      <td>315154</td>\n",
       "      <td>8.6625</td>\n",
       "      <td>NaN</td>\n",
       "      <td>S</td>\n",
       "      <td>Mr</td>\n",
       "    </tr>\n",
       "    <tr>\n",
       "      <th>896</th>\n",
       "      <td>3</td>\n",
       "      <td>Hirvonen, Mrs. Alexander (Helga E Lindqvist)</td>\n",
       "      <td>female</td>\n",
       "      <td>22.0</td>\n",
       "      <td>1</td>\n",
       "      <td>1</td>\n",
       "      <td>3101298</td>\n",
       "      <td>12.2875</td>\n",
       "      <td>NaN</td>\n",
       "      <td>S</td>\n",
       "      <td>Mrs</td>\n",
       "    </tr>\n",
       "  </tbody>\n",
       "</table>\n",
       "</div>"
      ],
      "text/plain": [
       "             Pclass                                          Name     Sex  \\\n",
       "PassengerId                                                                 \n",
       "892               3                              Kelly, Mr. James    male   \n",
       "893               3              Wilkes, Mrs. James (Ellen Needs)  female   \n",
       "894               2                     Myles, Mr. Thomas Francis    male   \n",
       "895               3                              Wirz, Mr. Albert    male   \n",
       "896               3  Hirvonen, Mrs. Alexander (Helga E Lindqvist)  female   \n",
       "\n",
       "              Age  SibSp  Parch   Ticket     Fare Cabin Embarked Title  \n",
       "PassengerId                                                             \n",
       "892          34.5      0      0   330911   7.8292   NaN        Q    Mr  \n",
       "893          47.0      1      0   363272   7.0000   NaN        S   Mrs  \n",
       "894          62.0      0      0   240276   9.6875   NaN        Q    Mr  \n",
       "895          27.0      0      0   315154   8.6625   NaN        S    Mr  \n",
       "896          22.0      1      1  3101298  12.2875   NaN        S   Mrs  "
      ]
     },
     "execution_count": 78,
     "metadata": {},
     "output_type": "execute_result"
    }
   ],
   "source": [
    "test.head()"
   ]
  },
  {
   "cell_type": "markdown",
   "metadata": {},
   "source": [
    "Like to train set, all features in test set should be cleaned and manipulated."
   ]
  },
  {
   "cell_type": "code",
   "execution_count": 79,
   "metadata": {},
   "outputs": [
    {
     "name": "stderr",
     "output_type": "stream",
     "text": [
      "<ipython-input-79-f227f150c8f6>:8: SettingWithCopyWarning: \n",
      "A value is trying to be set on a copy of a slice from a DataFrame\n",
      "\n",
      "See the caveats in the documentation: https://pandas.pydata.org/pandas-docs/stable/user_guide/indexing.html#returning-a-view-versus-a-copy\n",
      "  test.Cabin_Cat[i] = test['Cabin'][i][0]\n",
      "C:\\Users\\mosta\\anaconda3\\lib\\site-packages\\pandas\\core\\indexing.py:671: SettingWithCopyWarning: \n",
      "A value is trying to be set on a copy of a slice from a DataFrame\n",
      "\n",
      "See the caveats in the documentation: https://pandas.pydata.org/pandas-docs/stable/user_guide/indexing.html#returning-a-view-versus-a-copy\n",
      "  self._setitem_with_indexer(indexer, value)\n"
     ]
    }
   ],
   "source": [
    "# Cabin column has some NaN that should be known as \"Unknown\"\n",
    "convert_nan_to_category(test, 'Cabin')\n",
    "\n",
    "# New column for making the categorical value from Cabin\n",
    "test['Cabin_Cat'] = np.zeros((test.Cabin.shape[0]))\n",
    "\n",
    "for i in range(892, 1309):\n",
    "    test.Cabin_Cat[i] = test['Cabin'][i][0]\n",
    "\n",
    "\n",
    "# Replace Embared columns with most frequency values, if any\n",
    "impute_nan_most_frequent_category(test, \"Embarked\")    \n",
    "\n",
    "# Encoding categorical columns to numerics\n",
    "# Embared column to numeric\n",
    "cat_to_num(test, 'Embarked_Imputed')\n",
    "\n",
    "# Cabin column to numeric\n",
    "cat_to_num(test, 'Cabin_Cat')\n",
    "\n",
    "# Sex column to numeric\n",
    "cat_to_num(test, 'Sex')\n",
    "\n",
    "# Linear combinations of family size\n",
    "test['Family_Size'] = test['SibSp'] + test['Parch']\n",
    "\n",
    "# Convert Family_Size to binary like the train set(Alone or not)\n",
    "for dataset in [test]:\n",
    "    dataset['Alone'] = 0\n",
    "    dataset.loc[dataset['Family_Size'] == 1, 'Alone'] = 1\n",
    "\n",
    "\n",
    "# Title column to numeric\n",
    "cat_to_num(test, 'Title')\n",
    "    \n",
    "\n",
    "# drop the useless features\n",
    "test = test.drop(['Name', 'Sex', 'SibSp', 'Parch', 'Title', 'Ticket', 'Cabin', 'Embarked', 'Embarked_Imputed', 'Cabin_Cat', 'Family_Size'], axis = 'columns')\n"
   ]
  },
  {
   "cell_type": "markdown",
   "metadata": {},
   "source": [
    "Find the nearst neighbors for *NaN* value in Age"
   ]
  },
  {
   "cell_type": "code",
   "execution_count": 80,
   "metadata": {},
   "outputs": [
    {
     "name": "stderr",
     "output_type": "stream",
     "text": [
      "<ipython-input-80-e7902012d50c>:20: SettingWithCopyWarning: \n",
      "A value is trying to be set on a copy of a slice from a DataFrame\n",
      "\n",
      "See the caveats in the documentation: https://pandas.pydata.org/pandas-docs/stable/user_guide/indexing.html#returning-a-view-versus-a-copy\n",
      "  test_features['Age'][i] = missed_Age_val_test[j]\n"
     ]
    }
   ],
   "source": [
    "# Test features\n",
    "test_features = test.copy()\n",
    "\n",
    "\n",
    "# Replace missing Age*Pclass value with nearest neighbors\n",
    "test_features_withAge = test_features.dropna().drop(['Age'], axis='columns')\n",
    "testtarget_withAge = test_features.dropna()['Age'].astype('int')\n",
    "testtest_STD_Age = test_features[test_features['Age'].isna()].drop(['Age'], axis='columns')\n",
    "\n",
    "nn = KNeighborsClassifier(n_neighbors=classifier.best_estimator_.get_params()['n_neighbors'])\n",
    "nn.fit(test_features_withAge, testtarget_withAge)\n",
    "missed_Age_val_test = nn.predict(testtest_STD_Age)\n",
    "\n",
    "ind_missingValues_test = test_features[test_features['Age'].isna()].index\n",
    "testtest_STD_Age['Age'] = missed_Age_val_test\n",
    "\n",
    "# Put the predicted Age value to the features set\n",
    "j=0\n",
    "for i in ind_missingValues_test:\n",
    "    test_features['Age'][i] = missed_Age_val_test[j]\n",
    "    j=j+1"
   ]
  },
  {
   "cell_type": "markdown",
   "metadata": {},
   "source": [
    "As we know, Age is continus variable which should be Converted into the categorical."
   ]
  },
  {
   "cell_type": "code",
   "execution_count": 81,
   "metadata": {},
   "outputs": [],
   "source": [
    "test_features['AgeBand'] = pd.cut(test_features['Age'], 5)\n",
    "\n",
    "# I map Age according to AgeBand\n",
    "for dataset in [test_features]:\n",
    "    dataset.loc[dataset['Age'] <= 16, 'Age'] = 0\n",
    "    dataset.loc[(dataset['Age'] > 16) & (dataset['Age'] <= 32), 'Age'] = 1\n",
    "    dataset.loc[(dataset['Age'] > 32) & (dataset['Age'] <= 48), 'Age'] = 2\n",
    "    dataset.loc[(dataset['Age'] > 48) & (dataset['Age'] <= 64), 'Age'] = 3\n",
    "    dataset.loc[ dataset['Age'] > 64, 'Age'] = 4\n",
    "\n",
    "# Drop AgeBound\n",
    "test_features = test_features.drop(['AgeBand'], axis = 'columns')"
   ]
  },
  {
   "cell_type": "markdown",
   "metadata": {},
   "source": [
    "Fare feature also has a *NaN* that should be fill out with the mean. Then, this will be converted to categories of 0 to 3."
   ]
  },
  {
   "cell_type": "code",
   "execution_count": 82,
   "metadata": {},
   "outputs": [],
   "source": [
    "# replace NaN in Fare features with mean value\n",
    "test_features['Fare'].fillna(test_features['Fare'].mean(), inplace=True)"
   ]
  },
  {
   "cell_type": "code",
   "execution_count": 83,
   "metadata": {},
   "outputs": [],
   "source": [
    "for dataset in [test_features]:\n",
    "    dataset['Fare'] = dataset['Fare'].fillna(test_features['Fare'].median())\n",
    "\n",
    "\n",
    "test_features['FareBand'] = pd.qcut(test_features['Fare'], 4)\n",
    "\n",
    "# Map Fare according to FareBand\n",
    "for dataset in [test_features]:\n",
    "    dataset.loc[ dataset['Fare'] <= 7.91, 'Fare'] = 0\n",
    "    dataset.loc[(dataset['Fare'] > 7.91) & (dataset['Fare'] <= 14.454), 'Fare'] = 1\n",
    "    dataset.loc[(dataset['Fare'] > 14.454) & (dataset['Fare'] <= 31), 'Fare']   = 2\n",
    "    dataset.loc[ dataset['Fare'] > 31, 'Fare'] = 3\n",
    "    dataset['Fare'] = dataset['Fare'].astype(int)\n",
    "\n",
    "# drop FareBand\n",
    "test_features = test_features.drop(['FareBand'], axis = 'columns')"
   ]
  },
  {
   "cell_type": "code",
   "execution_count": 84,
   "metadata": {},
   "outputs": [],
   "source": [
    "# some important interactions between test features\n",
    "test_features['Age_Pclass'] = test_features['Age']*test_features['Pclass']\n",
    "test_features['Fare_Cabin'] = test_features['Fare']*test_features['Cabin_Cat_Encoded']\n",
    "test_features['Pcl_Cabin'] = test_features['Pclass']*test_features['Cabin_Cat_Encoded']\n",
    "test_features['Title_Cabin'] = test_features['Title_Encoded']*test_features['Cabin_Cat_Encoded']\n",
    "test_features['Pcl_Embarked'] = test_features['Pclass']*test_features['Embarked_Imputed_Encoded']"
   ]
  },
  {
   "cell_type": "markdown",
   "metadata": {},
   "source": [
    "Finally, the cleaned test set is shown as follows:\n",
    "\n",
    "It should be mentioned that feature_test is ready-to-use set which comes from the cleaned and manipulated test set. The feature_test has also the right shape for the created models. This set will be use to predict survived or died passenger by model(s)."
   ]
  },
  {
   "cell_type": "code",
   "execution_count": 85,
   "metadata": {},
   "outputs": [
    {
     "name": "stdout",
     "output_type": "stream",
     "text": [
      "feature_test shape: (418, 13)\n"
     ]
    },
    {
     "data": {
      "text/html": [
       "<div>\n",
       "<style scoped>\n",
       "    .dataframe tbody tr th:only-of-type {\n",
       "        vertical-align: middle;\n",
       "    }\n",
       "\n",
       "    .dataframe tbody tr th {\n",
       "        vertical-align: top;\n",
       "    }\n",
       "\n",
       "    .dataframe thead th {\n",
       "        text-align: right;\n",
       "    }\n",
       "</style>\n",
       "<table border=\"1\" class=\"dataframe\">\n",
       "  <thead>\n",
       "    <tr style=\"text-align: right;\">\n",
       "      <th></th>\n",
       "      <th>Pclass</th>\n",
       "      <th>Age</th>\n",
       "      <th>Fare</th>\n",
       "      <th>Embarked_Imputed_Encoded</th>\n",
       "      <th>Cabin_Cat_Encoded</th>\n",
       "      <th>Sex_Encoded</th>\n",
       "      <th>Alone</th>\n",
       "      <th>Title_Encoded</th>\n",
       "      <th>Age_Pclass</th>\n",
       "      <th>Fare_Cabin</th>\n",
       "      <th>Pcl_Cabin</th>\n",
       "      <th>Title_Cabin</th>\n",
       "      <th>Pcl_Embarked</th>\n",
       "    </tr>\n",
       "    <tr>\n",
       "      <th>PassengerId</th>\n",
       "      <th></th>\n",
       "      <th></th>\n",
       "      <th></th>\n",
       "      <th></th>\n",
       "      <th></th>\n",
       "      <th></th>\n",
       "      <th></th>\n",
       "      <th></th>\n",
       "      <th></th>\n",
       "      <th></th>\n",
       "      <th></th>\n",
       "      <th></th>\n",
       "      <th></th>\n",
       "    </tr>\n",
       "  </thead>\n",
       "  <tbody>\n",
       "    <tr>\n",
       "      <th>892</th>\n",
       "      <td>3</td>\n",
       "      <td>2.0</td>\n",
       "      <td>0</td>\n",
       "      <td>1</td>\n",
       "      <td>8</td>\n",
       "      <td>1</td>\n",
       "      <td>0</td>\n",
       "      <td>2</td>\n",
       "      <td>6.0</td>\n",
       "      <td>0</td>\n",
       "      <td>24</td>\n",
       "      <td>16</td>\n",
       "      <td>3</td>\n",
       "    </tr>\n",
       "    <tr>\n",
       "      <th>893</th>\n",
       "      <td>3</td>\n",
       "      <td>2.0</td>\n",
       "      <td>0</td>\n",
       "      <td>2</td>\n",
       "      <td>8</td>\n",
       "      <td>0</td>\n",
       "      <td>1</td>\n",
       "      <td>3</td>\n",
       "      <td>6.0</td>\n",
       "      <td>0</td>\n",
       "      <td>24</td>\n",
       "      <td>24</td>\n",
       "      <td>6</td>\n",
       "    </tr>\n",
       "    <tr>\n",
       "      <th>894</th>\n",
       "      <td>2</td>\n",
       "      <td>3.0</td>\n",
       "      <td>1</td>\n",
       "      <td>1</td>\n",
       "      <td>8</td>\n",
       "      <td>1</td>\n",
       "      <td>0</td>\n",
       "      <td>2</td>\n",
       "      <td>6.0</td>\n",
       "      <td>8</td>\n",
       "      <td>16</td>\n",
       "      <td>16</td>\n",
       "      <td>2</td>\n",
       "    </tr>\n",
       "    <tr>\n",
       "      <th>895</th>\n",
       "      <td>3</td>\n",
       "      <td>1.0</td>\n",
       "      <td>1</td>\n",
       "      <td>2</td>\n",
       "      <td>8</td>\n",
       "      <td>1</td>\n",
       "      <td>0</td>\n",
       "      <td>2</td>\n",
       "      <td>3.0</td>\n",
       "      <td>8</td>\n",
       "      <td>24</td>\n",
       "      <td>16</td>\n",
       "      <td>6</td>\n",
       "    </tr>\n",
       "    <tr>\n",
       "      <th>896</th>\n",
       "      <td>3</td>\n",
       "      <td>1.0</td>\n",
       "      <td>1</td>\n",
       "      <td>2</td>\n",
       "      <td>8</td>\n",
       "      <td>0</td>\n",
       "      <td>0</td>\n",
       "      <td>3</td>\n",
       "      <td>3.0</td>\n",
       "      <td>8</td>\n",
       "      <td>24</td>\n",
       "      <td>24</td>\n",
       "      <td>6</td>\n",
       "    </tr>\n",
       "  </tbody>\n",
       "</table>\n",
       "</div>"
      ],
      "text/plain": [
       "             Pclass  Age  Fare  Embarked_Imputed_Encoded  Cabin_Cat_Encoded  \\\n",
       "PassengerId                                                                   \n",
       "892               3  2.0     0                         1                  8   \n",
       "893               3  2.0     0                         2                  8   \n",
       "894               2  3.0     1                         1                  8   \n",
       "895               3  1.0     1                         2                  8   \n",
       "896               3  1.0     1                         2                  8   \n",
       "\n",
       "             Sex_Encoded  Alone  Title_Encoded  Age_Pclass  Fare_Cabin  \\\n",
       "PassengerId                                                              \n",
       "892                    1      0              2         6.0           0   \n",
       "893                    0      1              3         6.0           0   \n",
       "894                    1      0              2         6.0           8   \n",
       "895                    1      0              2         3.0           8   \n",
       "896                    0      0              3         3.0           8   \n",
       "\n",
       "             Pcl_Cabin  Title_Cabin  Pcl_Embarked  \n",
       "PassengerId                                        \n",
       "892                 24           16             3  \n",
       "893                 24           24             6  \n",
       "894                 16           16             2  \n",
       "895                 24           16             6  \n",
       "896                 24           24             6  "
      ]
     },
     "execution_count": 85,
     "metadata": {},
     "output_type": "execute_result"
    }
   ],
   "source": [
    "print(f'feature_test shape: {test_features.shape}')\n",
    "test_features.head()"
   ]
  },
  {
   "cell_type": "markdown",
   "metadata": {},
   "source": [
    "## 6. Create Submission File to Kaggle Competition\n",
    "I will create the submisssion file by using the XGBoost model from the cleaned test set."
   ]
  },
  {
   "cell_type": "markdown",
   "metadata": {},
   "source": [
    "Finally, the best record is submitted to the submission part through Kaggle Titanic Competition.\n",
    "\n",
    "Thank you!"
   ]
  }
 ],
 "metadata": {
  "kernelspec": {
   "display_name": "Python 3",
   "language": "python",
   "name": "python3"
  },
  "language_info": {
   "codemirror_mode": {
    "name": "ipython",
    "version": 3
   },
   "file_extension": ".py",
   "mimetype": "text/x-python",
   "name": "python",
   "nbconvert_exporter": "python",
   "pygments_lexer": "ipython3",
   "version": "3.8.3"
  }
 },
 "nbformat": 4,
 "nbformat_minor": 4
}
